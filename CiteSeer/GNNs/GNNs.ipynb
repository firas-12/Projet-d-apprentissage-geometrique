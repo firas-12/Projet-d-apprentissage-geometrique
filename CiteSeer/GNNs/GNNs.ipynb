{
 "cells": [
  {
   "cell_type": "markdown",
   "metadata": {},
   "source": [
    "In this notebook, we will use various state-of-the-art GNN models to perform node classification on a graph dataset. Each model learns node embeddings by aggregating information from neighboring nodes and edges. We will compare their performance on a classification task, using accuracy and other relevant metrics.\n",
    "\n",
    "### GNN Models Overview:\n",
    "- **GraphSAGE**: Uses a sampling method to aggregate features from a fixed-size neighborhood of each node. This approach allows for scalable learning on large graphs.\n",
    "- **GCN**: Uses spectral graph convolutions to aggregate feature information from neighboring nodes.\n",
    "- **GAT**: Uses attention mechanisms to weigh the importance of neighbors' features, allowing for better flexibility and interpretability in node aggregation.\n",
    "\n",
    "\n",
    "\n",
    "\n",
    "\n"
   ]
  },
  {
   "cell_type": "markdown",
   "metadata": {},
   "source": [
    "# 1)GCN"
   ]
  },
  {
   "cell_type": "code",
   "execution_count": null,
   "metadata": {},
   "outputs": [
    {
     "name": "stderr",
     "output_type": "stream",
     "text": [
      "Downloading https://github.com/kimiyoung/planetoid/raw/master/data/ind.citeseer.x\n",
      "Downloading https://github.com/kimiyoung/planetoid/raw/master/data/ind.citeseer.tx\n",
      "Downloading https://github.com/kimiyoung/planetoid/raw/master/data/ind.citeseer.allx\n",
      "Downloading https://github.com/kimiyoung/planetoid/raw/master/data/ind.citeseer.y\n",
      "Downloading https://github.com/kimiyoung/planetoid/raw/master/data/ind.citeseer.ty\n",
      "Downloading https://github.com/kimiyoung/planetoid/raw/master/data/ind.citeseer.ally\n",
      "Downloading https://github.com/kimiyoung/planetoid/raw/master/data/ind.citeseer.graph\n",
      "Downloading https://github.com/kimiyoung/planetoid/raw/master/data/ind.citeseer.test.index\n",
      "Processing...\n",
      "Done!\n",
      "c:\\Users\\21623\\AppData\\Local\\Programs\\Python\\Python39\\lib\\site-packages\\torch_geometric\\datasets\\planetoid.py:93: FutureWarning: You are using `torch.load` with `weights_only=False` (the current default value), which uses the default pickle module implicitly. It is possible to construct malicious pickle data which will execute arbitrary code during unpickling (See https://github.com/pytorch/pytorch/blob/main/SECURITY.md#untrusted-models for more details). In a future release, the default value for `weights_only` will be flipped to `True`. This limits the functions that could be executed during unpickling. Arbitrary objects will no longer be allowed to be loaded via this mode unless they are explicitly allowlisted by the user via `torch.serialization.add_safe_globals`. We recommend you start setting `weights_only=True` for any use case where you don't have full control of the loaded file. Please open an issue on GitHub for any issues related to this experimental feature.\n",
      "  self.data, self.slices = torch.load(self.processed_paths[0])\n",
      "  1%|          | 2/200 [00:00<00:12, 16.16it/s]"
     ]
    },
    {
     "name": "stdout",
     "output_type": "stream",
     "text": [
      "Epoch 000 train_loss 1.7942 val_loss 1.6799 test_acc 0.5790\n",
      "Epoch 001 train_loss 1.4960 val_loss 1.4982 test_acc 0.6430\n",
      "Epoch 002 train_loss 1.1118 val_loss 1.3075 test_acc 0.6610\n"
     ]
    },
    {
     "name": "stderr",
     "output_type": "stream",
     "text": [
      "  3%|▎         | 6/200 [00:00<00:13, 14.05it/s]"
     ]
    },
    {
     "name": "stdout",
     "output_type": "stream",
     "text": [
      "Epoch 003 train_loss 0.7140 val_loss 1.1582 test_acc 0.6640\n",
      "Epoch 004 train_loss 0.4636 val_loss 1.0551 test_acc 0.6760\n",
      "Epoch 005 train_loss 0.2856 val_loss 0.9999 test_acc 0.6780\n"
     ]
    },
    {
     "name": "stderr",
     "output_type": "stream",
     "text": [
      "  4%|▍         | 8/200 [00:00<00:13, 14.56it/s]"
     ]
    },
    {
     "name": "stdout",
     "output_type": "stream",
     "text": [
      "Epoch 006 train_loss 0.1948 val_loss 0.9801 test_acc 0.6870\n",
      "Epoch 007 train_loss 0.1167 val_loss 0.9910 test_acc 0.6840\n",
      "Epoch 008 train_loss 0.0955 val_loss 1.0214 test_acc 0.6770\n"
     ]
    },
    {
     "name": "stderr",
     "output_type": "stream",
     "text": [
      "  6%|▌         | 12/200 [00:00<00:11, 15.74it/s]"
     ]
    },
    {
     "name": "stdout",
     "output_type": "stream",
     "text": [
      "Epoch 009 train_loss 0.0626 val_loss 1.0690 test_acc 0.6630\n",
      "Epoch 010 train_loss 0.0601 val_loss 1.1128 test_acc 0.6620\n",
      "Epoch 011 train_loss 0.0470 val_loss 1.1356 test_acc 0.6660\n"
     ]
    },
    {
     "name": "stderr",
     "output_type": "stream",
     "text": [
      "  7%|▋         | 14/200 [00:01<00:12, 14.39it/s]"
     ]
    },
    {
     "name": "stdout",
     "output_type": "stream",
     "text": [
      "Epoch 012 train_loss 0.0270 val_loss 1.1540 test_acc 0.6680\n",
      "Epoch 013 train_loss 0.0160 val_loss 1.1758 test_acc 0.6680\n",
      "Epoch 014 train_loss 0.0198 val_loss 1.2024 test_acc 0.6670\n"
     ]
    },
    {
     "name": "stderr",
     "output_type": "stream",
     "text": [
      "  9%|▉         | 18/200 [00:01<00:12, 15.17it/s]"
     ]
    },
    {
     "name": "stdout",
     "output_type": "stream",
     "text": [
      "Epoch 015 train_loss 0.0208 val_loss 1.2314 test_acc 0.6710\n",
      "Epoch 016 train_loss 0.0196 val_loss 1.2604 test_acc 0.6680\n",
      "Epoch 017 train_loss 0.0130 val_loss 1.2931 test_acc 0.6690\n"
     ]
    },
    {
     "name": "stderr",
     "output_type": "stream",
     "text": [
      " 10%|█         | 20/200 [00:01<00:12, 13.94it/s]"
     ]
    },
    {
     "name": "stdout",
     "output_type": "stream",
     "text": [
      "Epoch 018 train_loss 0.0140 val_loss 1.3374 test_acc 0.6620\n",
      "Epoch 019 train_loss 0.0102 val_loss 1.3835 test_acc 0.6570\n",
      "Epoch 020 train_loss 0.0451 val_loss 1.4048 test_acc 0.6550\n"
     ]
    },
    {
     "name": "stderr",
     "output_type": "stream",
     "text": [
      " 12%|█▏        | 24/200 [00:01<00:12, 14.15it/s]"
     ]
    },
    {
     "name": "stdout",
     "output_type": "stream",
     "text": [
      "Epoch 021 train_loss 0.0156 val_loss 1.4082 test_acc 0.6590\n",
      "Epoch 022 train_loss 0.0093 val_loss 1.4109 test_acc 0.6650\n",
      "Epoch 023 train_loss 0.0101 val_loss 1.4141 test_acc 0.6580\n"
     ]
    },
    {
     "name": "stderr",
     "output_type": "stream",
     "text": [
      " 13%|█▎        | 26/200 [00:01<00:12, 14.27it/s]"
     ]
    },
    {
     "name": "stdout",
     "output_type": "stream",
     "text": [
      "Epoch 024 train_loss 0.0068 val_loss 1.4265 test_acc 0.6590\n",
      "Epoch 025 train_loss 0.0045 val_loss 1.4428 test_acc 0.6570\n",
      "Epoch 026 train_loss 0.0116 val_loss 1.4485 test_acc 0.6530\n"
     ]
    },
    {
     "name": "stderr",
     "output_type": "stream",
     "text": [
      " 15%|█▌        | 30/200 [00:02<00:11, 15.04it/s]"
     ]
    },
    {
     "name": "stdout",
     "output_type": "stream",
     "text": [
      "Epoch 027 train_loss 0.0046 val_loss 1.4491 test_acc 0.6570\n",
      "Epoch 028 train_loss 0.0404 val_loss 1.4449 test_acc 0.6580\n",
      "Epoch 029 train_loss 0.0045 val_loss 1.4448 test_acc 0.6550\n"
     ]
    },
    {
     "name": "stderr",
     "output_type": "stream",
     "text": [
      " 16%|█▌        | 32/200 [00:02<00:11, 14.56it/s]"
     ]
    },
    {
     "name": "stdout",
     "output_type": "stream",
     "text": [
      "Epoch 030 train_loss 0.0058 val_loss 1.4461 test_acc 0.6590\n",
      "Epoch 031 train_loss 0.0019 val_loss 1.4504 test_acc 0.6610\n",
      "Epoch 032 train_loss 0.0033 val_loss 1.4557 test_acc 0.6630\n"
     ]
    },
    {
     "name": "stderr",
     "output_type": "stream",
     "text": [
      " 18%|█▊        | 36/200 [00:02<00:11, 14.44it/s]"
     ]
    },
    {
     "name": "stdout",
     "output_type": "stream",
     "text": [
      "Epoch 033 train_loss 0.0072 val_loss 1.4593 test_acc 0.6650\n",
      "Epoch 034 train_loss 0.0019 val_loss 1.4650 test_acc 0.6620\n",
      "Epoch 035 train_loss 0.0018 val_loss 1.4716 test_acc 0.6630\n"
     ]
    },
    {
     "name": "stderr",
     "output_type": "stream",
     "text": [
      " 19%|█▉        | 38/200 [00:02<00:11, 14.35it/s]"
     ]
    },
    {
     "name": "stdout",
     "output_type": "stream",
     "text": [
      "Epoch 036 train_loss 0.0061 val_loss 1.4723 test_acc 0.6630\n",
      "Epoch 037 train_loss 0.0018 val_loss 1.4720 test_acc 0.6640\n",
      "Epoch 038 train_loss 0.0076 val_loss 1.4625 test_acc 0.6660\n",
      "Epoch 039 train_loss 0.0089 val_loss 1.4548 test_acc 0.6650\n"
     ]
    },
    {
     "name": "stderr",
     "output_type": "stream",
     "text": [
      " 21%|██        | 42/200 [00:02<00:11, 14.03it/s]"
     ]
    },
    {
     "name": "stdout",
     "output_type": "stream",
     "text": [
      "Epoch 040 train_loss 0.0018 val_loss 1.4500 test_acc 0.6690\n",
      "Epoch 041 train_loss 0.0026 val_loss 1.4478 test_acc 0.6670\n",
      "Epoch 042 train_loss 0.0019 val_loss 1.4477 test_acc 0.6710\n"
     ]
    },
    {
     "name": "stderr",
     "output_type": "stream",
     "text": [
      " 23%|██▎       | 46/200 [00:03<00:10, 15.04it/s]"
     ]
    },
    {
     "name": "stdout",
     "output_type": "stream",
     "text": [
      "Epoch 043 train_loss 0.0031 val_loss 1.4476 test_acc 0.6720\n",
      "Epoch 044 train_loss 0.0259 val_loss 1.4443 test_acc 0.6730\n",
      "Epoch 045 train_loss 0.0052 val_loss 1.4357 test_acc 0.6710\n",
      "Epoch 046 train_loss 0.0033 val_loss 1.4302 test_acc 0.6700\n"
     ]
    },
    {
     "name": "stderr",
     "output_type": "stream",
     "text": [
      " 25%|██▌       | 50/200 [00:03<00:10, 14.58it/s]"
     ]
    },
    {
     "name": "stdout",
     "output_type": "stream",
     "text": [
      "Epoch 047 train_loss 0.0063 val_loss 1.4231 test_acc 0.6660\n",
      "Epoch 048 train_loss 0.0011 val_loss 1.4187 test_acc 0.6620\n",
      "Epoch 049 train_loss 0.0048 val_loss 1.4118 test_acc 0.6650\n"
     ]
    },
    {
     "name": "stderr",
     "output_type": "stream",
     "text": [
      " 26%|██▌       | 52/200 [00:03<00:09, 14.85it/s]"
     ]
    },
    {
     "name": "stdout",
     "output_type": "stream",
     "text": [
      "Epoch 050 train_loss 0.0051 val_loss 1.4036 test_acc 0.6610\n",
      "Epoch 051 train_loss 0.0025 val_loss 1.3944 test_acc 0.6620\n",
      "Epoch 052 train_loss 0.0009 val_loss 1.3849 test_acc 0.6590\n"
     ]
    },
    {
     "name": "stderr",
     "output_type": "stream",
     "text": [
      " 28%|██▊       | 56/200 [00:03<00:09, 15.17it/s]"
     ]
    },
    {
     "name": "stdout",
     "output_type": "stream",
     "text": [
      "Epoch 053 train_loss 0.0026 val_loss 1.3731 test_acc 0.6560\n",
      "Epoch 054 train_loss 0.0023 val_loss 1.3639 test_acc 0.6570\n",
      "Epoch 055 train_loss 0.0011 val_loss 1.3541 test_acc 0.6600\n"
     ]
    },
    {
     "name": "stderr",
     "output_type": "stream",
     "text": [
      " 29%|██▉       | 58/200 [00:04<00:09, 14.55it/s]"
     ]
    },
    {
     "name": "stdout",
     "output_type": "stream",
     "text": [
      "Epoch 056 train_loss 0.0010 val_loss 1.3452 test_acc 0.6610\n",
      "Epoch 057 train_loss 0.0032 val_loss 1.3384 test_acc 0.6610\n",
      "Epoch 058 train_loss 0.0024 val_loss 1.3299 test_acc 0.6680\n"
     ]
    },
    {
     "name": "stderr",
     "output_type": "stream",
     "text": [
      " 31%|███       | 62/200 [00:04<00:09, 15.23it/s]"
     ]
    },
    {
     "name": "stdout",
     "output_type": "stream",
     "text": [
      "Epoch 059 train_loss 0.0042 val_loss 1.3245 test_acc 0.6700\n",
      "Epoch 060 train_loss 0.0040 val_loss 1.3226 test_acc 0.6680\n",
      "Epoch 061 train_loss 0.0018 val_loss 1.3224 test_acc 0.6660\n"
     ]
    },
    {
     "name": "stderr",
     "output_type": "stream",
     "text": [
      " 32%|███▏      | 64/200 [00:04<00:09, 14.49it/s]"
     ]
    },
    {
     "name": "stdout",
     "output_type": "stream",
     "text": [
      "Epoch 062 train_loss 0.0013 val_loss 1.3251 test_acc 0.6700\n",
      "Epoch 063 train_loss 0.0013 val_loss 1.3297 test_acc 0.6680\n",
      "Epoch 064 train_loss 0.0019 val_loss 1.3368 test_acc 0.6670\n"
     ]
    },
    {
     "name": "stderr",
     "output_type": "stream",
     "text": [
      " 34%|███▍      | 68/200 [00:04<00:08, 14.97it/s]"
     ]
    },
    {
     "name": "stdout",
     "output_type": "stream",
     "text": [
      "Epoch 065 train_loss 0.0013 val_loss 1.3405 test_acc 0.6660\n",
      "Epoch 066 train_loss 0.0027 val_loss 1.3409 test_acc 0.6670\n",
      "Epoch 067 train_loss 0.0018 val_loss 1.3385 test_acc 0.6670\n"
     ]
    },
    {
     "name": "stderr",
     "output_type": "stream",
     "text": [
      " 35%|███▌      | 70/200 [00:04<00:09, 14.41it/s]"
     ]
    },
    {
     "name": "stdout",
     "output_type": "stream",
     "text": [
      "Epoch 068 train_loss 0.0015 val_loss 1.3350 test_acc 0.6660\n",
      "Epoch 069 train_loss 0.0016 val_loss 1.3299 test_acc 0.6680\n",
      "Epoch 070 train_loss 0.0021 val_loss 1.3237 test_acc 0.6680\n"
     ]
    },
    {
     "name": "stderr",
     "output_type": "stream",
     "text": [
      " 37%|███▋      | 74/200 [00:05<00:08, 14.92it/s]"
     ]
    },
    {
     "name": "stdout",
     "output_type": "stream",
     "text": [
      "Epoch 071 train_loss 0.0033 val_loss 1.3139 test_acc 0.6690\n",
      "Epoch 072 train_loss 0.0026 val_loss 1.3028 test_acc 0.6710\n",
      "Epoch 073 train_loss 0.0039 val_loss 1.2880 test_acc 0.6720\n"
     ]
    },
    {
     "name": "stderr",
     "output_type": "stream",
     "text": [
      " 38%|███▊      | 76/200 [00:05<00:08, 14.14it/s]"
     ]
    },
    {
     "name": "stdout",
     "output_type": "stream",
     "text": [
      "Epoch 074 train_loss 0.0027 val_loss 1.2749 test_acc 0.6700\n",
      "Epoch 075 train_loss 0.0030 val_loss 1.2637 test_acc 0.6710\n",
      "Epoch 076 train_loss 0.0057 val_loss 1.2619 test_acc 0.6740\n"
     ]
    },
    {
     "name": "stderr",
     "output_type": "stream",
     "text": [
      " 40%|████      | 80/200 [00:05<00:08, 14.00it/s]"
     ]
    },
    {
     "name": "stdout",
     "output_type": "stream",
     "text": [
      "Epoch 077 train_loss 0.0028 val_loss 1.2640 test_acc 0.6700\n",
      "Epoch 078 train_loss 0.0016 val_loss 1.2673 test_acc 0.6680\n",
      "Epoch 079 train_loss 0.0036 val_loss 1.2718 test_acc 0.6650\n"
     ]
    },
    {
     "name": "stderr",
     "output_type": "stream",
     "text": [
      " 41%|████      | 82/200 [00:05<00:08, 14.71it/s]"
     ]
    },
    {
     "name": "stdout",
     "output_type": "stream",
     "text": [
      "Epoch 080 train_loss 0.0037 val_loss 1.2756 test_acc 0.6620\n",
      "Epoch 081 train_loss 0.0032 val_loss 1.2803 test_acc 0.6640\n",
      "Epoch 082 train_loss 0.0019 val_loss 1.2827 test_acc 0.6620\n"
     ]
    },
    {
     "name": "stderr",
     "output_type": "stream",
     "text": [
      " 43%|████▎     | 86/200 [00:05<00:07, 15.61it/s]"
     ]
    },
    {
     "name": "stdout",
     "output_type": "stream",
     "text": [
      "Epoch 083 train_loss 0.0034 val_loss 1.2788 test_acc 0.6600\n",
      "Epoch 084 train_loss 0.0043 val_loss 1.2737 test_acc 0.6630\n",
      "Epoch 085 train_loss 0.0029 val_loss 1.2700 test_acc 0.6630\n",
      "Epoch 086 train_loss 0.0015 val_loss 1.2672 test_acc 0.6650\n"
     ]
    },
    {
     "name": "stderr",
     "output_type": "stream",
     "text": [
      " 45%|████▌     | 90/200 [00:06<00:07, 14.69it/s]"
     ]
    },
    {
     "name": "stdout",
     "output_type": "stream",
     "text": [
      "Epoch 087 train_loss 0.0028 val_loss 1.2643 test_acc 0.6660\n",
      "Epoch 088 train_loss 0.0021 val_loss 1.2617 test_acc 0.6710\n",
      "Epoch 089 train_loss 0.0048 val_loss 1.2593 test_acc 0.6690\n"
     ]
    },
    {
     "name": "stderr",
     "output_type": "stream",
     "text": [
      " 46%|████▌     | 92/200 [00:06<00:07, 15.08it/s]"
     ]
    },
    {
     "name": "stdout",
     "output_type": "stream",
     "text": [
      "Epoch 090 train_loss 0.0023 val_loss 1.2563 test_acc 0.6720\n",
      "Epoch 091 train_loss 0.0022 val_loss 1.2546 test_acc 0.6750\n",
      "Epoch 092 train_loss 0.0020 val_loss 1.2536 test_acc 0.6780\n"
     ]
    },
    {
     "name": "stderr",
     "output_type": "stream",
     "text": [
      " 48%|████▊     | 96/200 [00:06<00:07, 14.69it/s]"
     ]
    },
    {
     "name": "stdout",
     "output_type": "stream",
     "text": [
      "Epoch 093 train_loss 0.0026 val_loss 1.2533 test_acc 0.6820\n",
      "Epoch 094 train_loss 0.0078 val_loss 1.2600 test_acc 0.6810\n",
      "Epoch 095 train_loss 0.0021 val_loss 1.2681 test_acc 0.6760\n"
     ]
    },
    {
     "name": "stderr",
     "output_type": "stream",
     "text": [
      " 49%|████▉     | 98/200 [00:06<00:06, 14.94it/s]"
     ]
    },
    {
     "name": "stdout",
     "output_type": "stream",
     "text": [
      "Epoch 096 train_loss 0.0043 val_loss 1.2674 test_acc 0.6770\n",
      "Epoch 097 train_loss 0.0053 val_loss 1.2597 test_acc 0.6740\n",
      "Epoch 098 train_loss 0.0025 val_loss 1.2488 test_acc 0.6740\n"
     ]
    },
    {
     "name": "stderr",
     "output_type": "stream",
     "text": [
      " 51%|█████     | 102/200 [00:06<00:06, 14.67it/s]"
     ]
    },
    {
     "name": "stdout",
     "output_type": "stream",
     "text": [
      "Epoch 099 train_loss 0.0018 val_loss 1.2398 test_acc 0.6740\n",
      "Epoch 100 train_loss 0.0022 val_loss 1.2267 test_acc 0.6760\n",
      "Epoch 101 train_loss 0.0019 val_loss 1.2141 test_acc 0.6720\n"
     ]
    },
    {
     "name": "stderr",
     "output_type": "stream",
     "text": [
      " 52%|█████▏    | 104/200 [00:07<00:06, 14.91it/s]"
     ]
    },
    {
     "name": "stdout",
     "output_type": "stream",
     "text": [
      "Epoch 102 train_loss 0.0025 val_loss 1.2040 test_acc 0.6770\n",
      "Epoch 103 train_loss 0.0085 val_loss 1.1972 test_acc 0.6710\n",
      "Epoch 104 train_loss 0.0025 val_loss 1.1942 test_acc 0.6680\n"
     ]
    },
    {
     "name": "stderr",
     "output_type": "stream",
     "text": [
      " 54%|█████▍    | 108/200 [00:07<00:06, 15.05it/s]"
     ]
    },
    {
     "name": "stdout",
     "output_type": "stream",
     "text": [
      "Epoch 105 train_loss 0.0029 val_loss 1.1961 test_acc 0.6700\n",
      "Epoch 106 train_loss 0.0042 val_loss 1.2016 test_acc 0.6610\n",
      "Epoch 107 train_loss 0.0051 val_loss 1.2070 test_acc 0.6590\n"
     ]
    },
    {
     "name": "stderr",
     "output_type": "stream",
     "text": [
      " 55%|█████▌    | 110/200 [00:07<00:05, 15.21it/s]"
     ]
    },
    {
     "name": "stdout",
     "output_type": "stream",
     "text": [
      "Epoch 108 train_loss 0.0045 val_loss 1.2100 test_acc 0.6630\n",
      "Epoch 109 train_loss 0.0064 val_loss 1.2068 test_acc 0.6650\n",
      "Epoch 110 train_loss 0.0031 val_loss 1.2039 test_acc 0.6650\n"
     ]
    },
    {
     "name": "stderr",
     "output_type": "stream",
     "text": [
      " 57%|█████▋    | 114/200 [00:07<00:05, 15.21it/s]"
     ]
    },
    {
     "name": "stdout",
     "output_type": "stream",
     "text": [
      "Epoch 111 train_loss 0.0043 val_loss 1.1998 test_acc 0.6700\n",
      "Epoch 112 train_loss 0.0021 val_loss 1.1982 test_acc 0.6750\n",
      "Epoch 113 train_loss 0.0078 val_loss 1.2045 test_acc 0.6780\n"
     ]
    },
    {
     "name": "stderr",
     "output_type": "stream",
     "text": [
      " 58%|█████▊    | 116/200 [00:07<00:05, 15.16it/s]"
     ]
    },
    {
     "name": "stdout",
     "output_type": "stream",
     "text": [
      "Epoch 114 train_loss 0.0027 val_loss 1.2110 test_acc 0.6790\n",
      "Epoch 115 train_loss 0.0059 val_loss 1.2177 test_acc 0.6780\n",
      "Epoch 116 train_loss 0.0016 val_loss 1.2236 test_acc 0.6780\n"
     ]
    },
    {
     "name": "stderr",
     "output_type": "stream",
     "text": [
      " 60%|██████    | 120/200 [00:08<00:05, 14.78it/s]"
     ]
    },
    {
     "name": "stdout",
     "output_type": "stream",
     "text": [
      "Epoch 117 train_loss 0.0020 val_loss 1.2285 test_acc 0.6770\n",
      "Epoch 118 train_loss 0.0062 val_loss 1.2307 test_acc 0.6750\n",
      "Epoch 119 train_loss 0.0041 val_loss 1.2307 test_acc 0.6730\n"
     ]
    },
    {
     "name": "stderr",
     "output_type": "stream",
     "text": [
      " 62%|██████▏   | 124/200 [00:08<00:04, 15.47it/s]"
     ]
    },
    {
     "name": "stdout",
     "output_type": "stream",
     "text": [
      "Epoch 120 train_loss 0.0035 val_loss 1.2279 test_acc 0.6720\n",
      "Epoch 121 train_loss 0.0059 val_loss 1.2213 test_acc 0.6740\n",
      "Epoch 122 train_loss 0.0035 val_loss 1.2145 test_acc 0.6780\n",
      "Epoch 123 train_loss 0.0066 val_loss 1.2173 test_acc 0.6760\n"
     ]
    },
    {
     "name": "stderr",
     "output_type": "stream",
     "text": [
      " 63%|██████▎   | 126/200 [00:08<00:04, 15.05it/s]"
     ]
    },
    {
     "name": "stdout",
     "output_type": "stream",
     "text": [
      "Epoch 124 train_loss 0.0056 val_loss 1.2174 test_acc 0.6780\n",
      "Epoch 125 train_loss 0.0097 val_loss 1.2247 test_acc 0.6790\n",
      "Epoch 126 train_loss 0.0035 val_loss 1.2331 test_acc 0.6740\n"
     ]
    },
    {
     "name": "stderr",
     "output_type": "stream",
     "text": [
      " 65%|██████▌   | 130/200 [00:08<00:04, 15.23it/s]"
     ]
    },
    {
     "name": "stdout",
     "output_type": "stream",
     "text": [
      "Epoch 127 train_loss 0.0032 val_loss 1.2414 test_acc 0.6680\n",
      "Epoch 128 train_loss 0.0030 val_loss 1.2494 test_acc 0.6630\n",
      "Epoch 129 train_loss 0.0087 val_loss 1.2443 test_acc 0.6570\n"
     ]
    },
    {
     "name": "stderr",
     "output_type": "stream",
     "text": [
      " 66%|██████▌   | 132/200 [00:08<00:04, 14.98it/s]"
     ]
    },
    {
     "name": "stdout",
     "output_type": "stream",
     "text": [
      "Epoch 130 train_loss 0.0043 val_loss 1.2340 test_acc 0.6640\n",
      "Epoch 131 train_loss 0.0047 val_loss 1.2244 test_acc 0.6640\n",
      "Epoch 132 train_loss 0.0037 val_loss 1.2135 test_acc 0.6650\n"
     ]
    },
    {
     "name": "stderr",
     "output_type": "stream",
     "text": [
      " 68%|██████▊   | 136/200 [00:09<00:04, 15.42it/s]"
     ]
    },
    {
     "name": "stdout",
     "output_type": "stream",
     "text": [
      "Epoch 133 train_loss 0.0071 val_loss 1.2162 test_acc 0.6670\n",
      "Epoch 134 train_loss 0.0056 val_loss 1.2200 test_acc 0.6670\n",
      "Epoch 135 train_loss 0.0044 val_loss 1.2212 test_acc 0.6690\n",
      "Epoch 136 train_loss 0.0036 val_loss 1.2196 test_acc 0.6680\n"
     ]
    },
    {
     "name": "stderr",
     "output_type": "stream",
     "text": [
      " 70%|███████   | 140/200 [00:09<00:03, 15.97it/s]"
     ]
    },
    {
     "name": "stdout",
     "output_type": "stream",
     "text": [
      "Epoch 137 train_loss 0.0059 val_loss 1.2187 test_acc 0.6690\n",
      "Epoch 138 train_loss 0.0070 val_loss 1.2279 test_acc 0.6640\n",
      "Epoch 139 train_loss 0.0022 val_loss 1.2427 test_acc 0.6580\n"
     ]
    },
    {
     "name": "stderr",
     "output_type": "stream",
     "text": [
      " 72%|███████▏  | 144/200 [00:09<00:03, 15.93it/s]"
     ]
    },
    {
     "name": "stdout",
     "output_type": "stream",
     "text": [
      "Epoch 140 train_loss 0.0046 val_loss 1.2530 test_acc 0.6560\n",
      "Epoch 141 train_loss 0.0051 val_loss 1.2607 test_acc 0.6580\n",
      "Epoch 142 train_loss 0.0089 val_loss 1.2574 test_acc 0.6620\n",
      "Epoch 143 train_loss 0.0035 val_loss 1.2544 test_acc 0.6600\n"
     ]
    },
    {
     "name": "stderr",
     "output_type": "stream",
     "text": [
      " 73%|███████▎  | 146/200 [00:09<00:03, 15.71it/s]"
     ]
    },
    {
     "name": "stdout",
     "output_type": "stream",
     "text": [
      "Epoch 144 train_loss 0.0035 val_loss 1.2528 test_acc 0.6580\n",
      "Epoch 145 train_loss 0.0020 val_loss 1.2491 test_acc 0.6590\n",
      "Epoch 146 train_loss 0.0020 val_loss 1.2429 test_acc 0.6590\n"
     ]
    },
    {
     "name": "stderr",
     "output_type": "stream",
     "text": [
      " 75%|███████▌  | 150/200 [00:10<00:03, 15.66it/s]"
     ]
    },
    {
     "name": "stdout",
     "output_type": "stream",
     "text": [
      "Epoch 147 train_loss 0.0034 val_loss 1.2341 test_acc 0.6570\n",
      "Epoch 148 train_loss 0.0036 val_loss 1.2283 test_acc 0.6600\n",
      "Epoch 149 train_loss 0.0036 val_loss 1.2300 test_acc 0.6660\n"
     ]
    },
    {
     "name": "stderr",
     "output_type": "stream",
     "text": [
      " 76%|███████▌  | 152/200 [00:10<00:03, 15.51it/s]"
     ]
    },
    {
     "name": "stdout",
     "output_type": "stream",
     "text": [
      "Epoch 150 train_loss 0.0063 val_loss 1.2313 test_acc 0.6660\n",
      "Epoch 151 train_loss 0.0066 val_loss 1.2455 test_acc 0.6610\n",
      "Epoch 152 train_loss 0.0031 val_loss 1.2587 test_acc 0.6630\n"
     ]
    },
    {
     "name": "stderr",
     "output_type": "stream",
     "text": [
      " 78%|███████▊  | 156/200 [00:10<00:02, 14.81it/s]"
     ]
    },
    {
     "name": "stdout",
     "output_type": "stream",
     "text": [
      "Epoch 153 train_loss 0.0026 val_loss 1.2640 test_acc 0.6640\n",
      "Epoch 154 train_loss 0.0023 val_loss 1.2677 test_acc 0.6660\n",
      "Epoch 155 train_loss 0.0033 val_loss 1.2659 test_acc 0.6690\n"
     ]
    },
    {
     "name": "stderr",
     "output_type": "stream",
     "text": [
      " 79%|███████▉  | 158/200 [00:10<00:02, 15.14it/s]"
     ]
    },
    {
     "name": "stdout",
     "output_type": "stream",
     "text": [
      "Epoch 156 train_loss 0.0030 val_loss 1.2630 test_acc 0.6720\n",
      "Epoch 157 train_loss 0.0058 val_loss 1.2494 test_acc 0.6700\n",
      "Epoch 158 train_loss 0.0118 val_loss 1.2475 test_acc 0.6630\n"
     ]
    },
    {
     "name": "stderr",
     "output_type": "stream",
     "text": [
      " 81%|████████  | 162/200 [00:10<00:02, 14.80it/s]"
     ]
    },
    {
     "name": "stdout",
     "output_type": "stream",
     "text": [
      "Epoch 159 train_loss 0.0167 val_loss 1.2345 test_acc 0.6710\n",
      "Epoch 160 train_loss 0.0038 val_loss 1.2378 test_acc 0.6690\n",
      "Epoch 161 train_loss 0.0027 val_loss 1.2552 test_acc 0.6630\n"
     ]
    },
    {
     "name": "stderr",
     "output_type": "stream",
     "text": [
      " 82%|████████▏ | 164/200 [00:11<00:02, 15.14it/s]"
     ]
    },
    {
     "name": "stdout",
     "output_type": "stream",
     "text": [
      "Epoch 162 train_loss 0.0062 val_loss 1.2734 test_acc 0.6590\n",
      "Epoch 163 train_loss 0.0079 val_loss 1.2924 test_acc 0.6560\n",
      "Epoch 164 train_loss 0.0033 val_loss 1.3065 test_acc 0.6510\n"
     ]
    },
    {
     "name": "stderr",
     "output_type": "stream",
     "text": [
      " 84%|████████▍ | 168/200 [00:11<00:02, 14.44it/s]"
     ]
    },
    {
     "name": "stdout",
     "output_type": "stream",
     "text": [
      "Epoch 165 train_loss 0.0035 val_loss 1.3178 test_acc 0.6470\n",
      "Epoch 166 train_loss 0.0041 val_loss 1.3185 test_acc 0.6480\n",
      "Epoch 167 train_loss 0.0161 val_loss 1.2849 test_acc 0.6620\n"
     ]
    },
    {
     "name": "stderr",
     "output_type": "stream",
     "text": [
      " 85%|████████▌ | 170/200 [00:11<00:02, 14.51it/s]"
     ]
    },
    {
     "name": "stdout",
     "output_type": "stream",
     "text": [
      "Epoch 168 train_loss 0.0069 val_loss 1.2752 test_acc 0.6620\n",
      "Epoch 169 train_loss 0.0021 val_loss 1.2951 test_acc 0.6580\n",
      "Epoch 170 train_loss 0.0038 val_loss 1.3316 test_acc 0.6560\n"
     ]
    },
    {
     "name": "stderr",
     "output_type": "stream",
     "text": [
      " 87%|████████▋ | 174/200 [00:11<00:01, 14.38it/s]"
     ]
    },
    {
     "name": "stdout",
     "output_type": "stream",
     "text": [
      "Epoch 171 train_loss 0.0046 val_loss 1.3653 test_acc 0.6510\n",
      "Epoch 172 train_loss 0.0059 val_loss 1.3837 test_acc 0.6570\n",
      "Epoch 173 train_loss 0.0048 val_loss 1.3852 test_acc 0.6600\n"
     ]
    },
    {
     "name": "stderr",
     "output_type": "stream",
     "text": [
      " 88%|████████▊ | 176/200 [00:11<00:01, 14.73it/s]"
     ]
    },
    {
     "name": "stdout",
     "output_type": "stream",
     "text": [
      "Epoch 174 train_loss 0.0060 val_loss 1.3737 test_acc 0.6610\n",
      "Epoch 175 train_loss 0.0135 val_loss 1.3651 test_acc 0.6660\n",
      "Epoch 176 train_loss 0.0029 val_loss 1.3598 test_acc 0.6720\n"
     ]
    },
    {
     "name": "stderr",
     "output_type": "stream",
     "text": [
      " 90%|█████████ | 180/200 [00:12<00:01, 15.18it/s]"
     ]
    },
    {
     "name": "stdout",
     "output_type": "stream",
     "text": [
      "Epoch 177 train_loss 0.0043 val_loss 1.3578 test_acc 0.6710\n",
      "Epoch 178 train_loss 0.0035 val_loss 1.3546 test_acc 0.6660\n",
      "Epoch 179 train_loss 0.0068 val_loss 1.3426 test_acc 0.6600\n"
     ]
    },
    {
     "name": "stderr",
     "output_type": "stream",
     "text": [
      " 91%|█████████ | 182/200 [00:12<00:01, 15.15it/s]"
     ]
    },
    {
     "name": "stdout",
     "output_type": "stream",
     "text": [
      "Epoch 180 train_loss 0.0068 val_loss 1.3250 test_acc 0.6570\n",
      "Epoch 181 train_loss 0.0062 val_loss 1.3222 test_acc 0.6580\n",
      "Epoch 182 train_loss 0.0023 val_loss 1.3294 test_acc 0.6540\n"
     ]
    },
    {
     "name": "stderr",
     "output_type": "stream",
     "text": [
      " 93%|█████████▎| 186/200 [00:12<00:00, 14.60it/s]"
     ]
    },
    {
     "name": "stdout",
     "output_type": "stream",
     "text": [
      "Epoch 183 train_loss 0.0100 val_loss 1.3417 test_acc 0.6520\n",
      "Epoch 184 train_loss 0.0026 val_loss 1.3614 test_acc 0.6380\n",
      "Epoch 185 train_loss 0.0041 val_loss 1.3819 test_acc 0.6380\n"
     ]
    },
    {
     "name": "stderr",
     "output_type": "stream",
     "text": [
      " 94%|█████████▍| 188/200 [00:12<00:00, 14.90it/s]"
     ]
    },
    {
     "name": "stdout",
     "output_type": "stream",
     "text": [
      "Epoch 186 train_loss 0.0021 val_loss 1.4040 test_acc 0.6390\n",
      "Epoch 187 train_loss 0.0078 val_loss 1.4161 test_acc 0.6370\n",
      "Epoch 188 train_loss 0.0061 val_loss 1.4117 test_acc 0.6370\n"
     ]
    },
    {
     "name": "stderr",
     "output_type": "stream",
     "text": [
      " 96%|█████████▌| 192/200 [00:12<00:00, 14.51it/s]"
     ]
    },
    {
     "name": "stdout",
     "output_type": "stream",
     "text": [
      "Epoch 189 train_loss 0.0052 val_loss 1.4012 test_acc 0.6360\n",
      "Epoch 190 train_loss 0.0206 val_loss 1.4009 test_acc 0.6460\n",
      "Epoch 191 train_loss 0.0020 val_loss 1.4253 test_acc 0.6490\n"
     ]
    },
    {
     "name": "stderr",
     "output_type": "stream",
     "text": [
      " 97%|█████████▋| 194/200 [00:13<00:00, 14.73it/s]"
     ]
    },
    {
     "name": "stdout",
     "output_type": "stream",
     "text": [
      "Epoch 192 train_loss 0.0034 val_loss 1.4517 test_acc 0.6480\n",
      "Epoch 193 train_loss 0.0059 val_loss 1.4952 test_acc 0.6490\n",
      "Epoch 194 train_loss 0.0060 val_loss 1.5317 test_acc 0.6460\n"
     ]
    },
    {
     "name": "stderr",
     "output_type": "stream",
     "text": [
      " 99%|█████████▉| 198/200 [00:13<00:00, 15.35it/s]"
     ]
    },
    {
     "name": "stdout",
     "output_type": "stream",
     "text": [
      "Epoch 195 train_loss 0.0239 val_loss 1.5090 test_acc 0.6460\n",
      "Epoch 196 train_loss 0.0047 val_loss 1.4809 test_acc 0.6540\n",
      "Epoch 197 train_loss 0.0080 val_loss 1.4497 test_acc 0.6590\n"
     ]
    },
    {
     "name": "stderr",
     "output_type": "stream",
     "text": [
      "100%|██████████| 200/200 [00:13<00:00, 14.90it/s]"
     ]
    },
    {
     "name": "stdout",
     "output_type": "stream",
     "text": [
      "Epoch 198 train_loss 0.0040 val_loss 1.4247 test_acc 0.6600\n",
      "Epoch 199 train_loss 0.0032 val_loss 1.4081 test_acc 0.6570\n",
      "test acc: 0.687\n"
     ]
    },
    {
     "name": "stderr",
     "output_type": "stream",
     "text": [
      "\n"
     ]
    }
   ],
   "source": [
    "import os\n",
    "from get_data import load_data\n",
    "from models import GCN\n",
    "from util import device, train\n",
    "\n",
    "path = os.path.abspath(os.path.dirname(os.getcwd())) + \"/data\"\n",
    "\n",
    "\n",
    "def main():\n",
    "    dataset, num_in_feats, num_out_feats = load_data(path, name='CiteSeer')\n",
    "    model = GCN(num_in_feats, 64, num_out_feats).to(device)\n",
    "    model, test_acc = train(model, dataset)\n",
    "    print('test acc:', test_acc)\n",
    "\n",
    "\n",
    "if __name__ == '__main__':\n",
    "    main()"
   ]
  },
  {
   "cell_type": "markdown",
   "metadata": {},
   "source": [
    "# 2)GAT"
   ]
  },
  {
   "cell_type": "code",
   "execution_count": null,
   "metadata": {},
   "outputs": [
    {
     "name": "stderr",
     "output_type": "stream",
     "text": [
      "c:\\Users\\21623\\AppData\\Local\\Programs\\Python\\Python39\\lib\\site-packages\\torch_geometric\\data\\dataset.py:208: FutureWarning: You are using `torch.load` with `weights_only=False` (the current default value), which uses the default pickle module implicitly. It is possible to construct malicious pickle data which will execute arbitrary code during unpickling (See https://github.com/pytorch/pytorch/blob/main/SECURITY.md#untrusted-models for more details). In a future release, the default value for `weights_only` will be flipped to `True`. This limits the functions that could be executed during unpickling. Arbitrary objects will no longer be allowed to be loaded via this mode unless they are explicitly allowlisted by the user via `torch.serialization.add_safe_globals`. We recommend you start setting `weights_only=True` for any use case where you don't have full control of the loaded file. Please open an issue on GitHub for any issues related to this experimental feature.\n",
      "  if osp.exists(f) and torch.load(f) != _repr(self.pre_transform):\n",
      "c:\\Users\\21623\\AppData\\Local\\Programs\\Python\\Python39\\lib\\site-packages\\torch_geometric\\data\\dataset.py:216: FutureWarning: You are using `torch.load` with `weights_only=False` (the current default value), which uses the default pickle module implicitly. It is possible to construct malicious pickle data which will execute arbitrary code during unpickling (See https://github.com/pytorch/pytorch/blob/main/SECURITY.md#untrusted-models for more details). In a future release, the default value for `weights_only` will be flipped to `True`. This limits the functions that could be executed during unpickling. Arbitrary objects will no longer be allowed to be loaded via this mode unless they are explicitly allowlisted by the user via `torch.serialization.add_safe_globals`. We recommend you start setting `weights_only=True` for any use case where you don't have full control of the loaded file. Please open an issue on GitHub for any issues related to this experimental feature.\n",
      "  if osp.exists(f) and torch.load(f) != _repr(self.pre_filter):\n",
      "  0%|          | 1/200 [00:00<00:48,  4.09it/s]"
     ]
    },
    {
     "name": "stdout",
     "output_type": "stream",
     "text": [
      "Epoch 000 train_loss 1.7916 val_loss 1.7472 test_acc 0.6420\n"
     ]
    },
    {
     "name": "stderr",
     "output_type": "stream",
     "text": [
      "  1%|          | 2/200 [00:00<00:43,  4.53it/s]"
     ]
    },
    {
     "name": "stdout",
     "output_type": "stream",
     "text": [
      "Epoch 001 train_loss 1.6979 val_loss 1.6545 test_acc 0.6940\n"
     ]
    },
    {
     "name": "stderr",
     "output_type": "stream",
     "text": [
      "  2%|▏         | 3/200 [00:00<00:44,  4.43it/s]"
     ]
    },
    {
     "name": "stdout",
     "output_type": "stream",
     "text": [
      "Epoch 002 train_loss 1.5128 val_loss 1.5429 test_acc 0.6890\n"
     ]
    },
    {
     "name": "stderr",
     "output_type": "stream",
     "text": [
      "  2%|▏         | 4/200 [00:00<00:43,  4.55it/s]"
     ]
    },
    {
     "name": "stdout",
     "output_type": "stream",
     "text": [
      "Epoch 003 train_loss 1.2741 val_loss 1.4190 test_acc 0.6850\n"
     ]
    },
    {
     "name": "stderr",
     "output_type": "stream",
     "text": [
      "  2%|▎         | 5/200 [00:01<00:43,  4.46it/s]"
     ]
    },
    {
     "name": "stdout",
     "output_type": "stream",
     "text": [
      "Epoch 004 train_loss 1.0171 val_loss 1.2903 test_acc 0.6920\n"
     ]
    },
    {
     "name": "stderr",
     "output_type": "stream",
     "text": [
      "  3%|▎         | 6/200 [00:01<00:44,  4.35it/s]"
     ]
    },
    {
     "name": "stdout",
     "output_type": "stream",
     "text": [
      "Epoch 005 train_loss 0.7806 val_loss 1.1724 test_acc 0.7050\n"
     ]
    },
    {
     "name": "stderr",
     "output_type": "stream",
     "text": [
      "  4%|▎         | 7/200 [00:01<00:46,  4.13it/s]"
     ]
    },
    {
     "name": "stdout",
     "output_type": "stream",
     "text": [
      "Epoch 006 train_loss 0.5561 val_loss 1.0838 test_acc 0.7040\n"
     ]
    },
    {
     "name": "stderr",
     "output_type": "stream",
     "text": [
      "  4%|▍         | 8/200 [00:01<00:45,  4.22it/s]"
     ]
    },
    {
     "name": "stdout",
     "output_type": "stream",
     "text": [
      "Epoch 007 train_loss 0.3581 val_loss 1.0310 test_acc 0.7000\n"
     ]
    },
    {
     "name": "stderr",
     "output_type": "stream",
     "text": [
      "  4%|▍         | 9/200 [00:02<00:46,  4.13it/s]"
     ]
    },
    {
     "name": "stdout",
     "output_type": "stream",
     "text": [
      "Epoch 008 train_loss 0.2790 val_loss 1.0209 test_acc 0.6780\n"
     ]
    },
    {
     "name": "stderr",
     "output_type": "stream",
     "text": [
      "  5%|▌         | 10/200 [00:02<00:46,  4.07it/s]"
     ]
    },
    {
     "name": "stdout",
     "output_type": "stream",
     "text": [
      "Epoch 009 train_loss 0.1890 val_loss 1.0440 test_acc 0.6590\n"
     ]
    },
    {
     "name": "stderr",
     "output_type": "stream",
     "text": [
      "  6%|▌         | 11/200 [00:02<00:47,  4.00it/s]"
     ]
    },
    {
     "name": "stdout",
     "output_type": "stream",
     "text": [
      "Epoch 010 train_loss 0.1250 val_loss 1.0771 test_acc 0.6380\n"
     ]
    },
    {
     "name": "stderr",
     "output_type": "stream",
     "text": [
      "  6%|▌         | 12/200 [00:02<00:44,  4.21it/s]"
     ]
    },
    {
     "name": "stdout",
     "output_type": "stream",
     "text": [
      "Epoch 011 train_loss 0.1063 val_loss 1.1167 test_acc 0.6350\n"
     ]
    },
    {
     "name": "stderr",
     "output_type": "stream",
     "text": [
      "  6%|▋         | 13/200 [00:03<00:45,  4.13it/s]"
     ]
    },
    {
     "name": "stdout",
     "output_type": "stream",
     "text": [
      "Epoch 012 train_loss 0.0848 val_loss 1.1561 test_acc 0.6330\n"
     ]
    },
    {
     "name": "stderr",
     "output_type": "stream",
     "text": [
      "  7%|▋         | 14/200 [00:03<00:43,  4.31it/s]"
     ]
    },
    {
     "name": "stdout",
     "output_type": "stream",
     "text": [
      "Epoch 013 train_loss 0.0584 val_loss 1.1822 test_acc 0.6310\n"
     ]
    },
    {
     "name": "stderr",
     "output_type": "stream",
     "text": [
      "  8%|▊         | 15/200 [00:03<00:41,  4.46it/s]"
     ]
    },
    {
     "name": "stdout",
     "output_type": "stream",
     "text": [
      "Epoch 014 train_loss 0.0664 val_loss 1.1873 test_acc 0.6400\n"
     ]
    },
    {
     "name": "stderr",
     "output_type": "stream",
     "text": [
      "  8%|▊         | 16/200 [00:03<00:41,  4.39it/s]"
     ]
    },
    {
     "name": "stdout",
     "output_type": "stream",
     "text": [
      "Epoch 015 train_loss 0.0490 val_loss 1.1754 test_acc 0.6530\n"
     ]
    },
    {
     "name": "stderr",
     "output_type": "stream",
     "text": [
      "  8%|▊         | 17/200 [00:03<00:40,  4.52it/s]"
     ]
    },
    {
     "name": "stdout",
     "output_type": "stream",
     "text": [
      "Epoch 016 train_loss 0.0400 val_loss 1.1696 test_acc 0.6600\n"
     ]
    },
    {
     "name": "stderr",
     "output_type": "stream",
     "text": [
      "  9%|▉         | 18/200 [00:04<00:41,  4.36it/s]"
     ]
    },
    {
     "name": "stdout",
     "output_type": "stream",
     "text": [
      "Epoch 017 train_loss 0.0363 val_loss 1.1758 test_acc 0.6630\n"
     ]
    },
    {
     "name": "stderr",
     "output_type": "stream",
     "text": [
      " 10%|▉         | 19/200 [00:04<00:41,  4.31it/s]"
     ]
    },
    {
     "name": "stdout",
     "output_type": "stream",
     "text": [
      "Epoch 018 train_loss 0.0391 val_loss 1.1885 test_acc 0.6600\n"
     ]
    },
    {
     "name": "stderr",
     "output_type": "stream",
     "text": [
      " 10%|█         | 20/200 [00:04<00:43,  4.12it/s]"
     ]
    },
    {
     "name": "stdout",
     "output_type": "stream",
     "text": [
      "Epoch 019 train_loss 0.0241 val_loss 1.2034 test_acc 0.6630\n"
     ]
    },
    {
     "name": "stderr",
     "output_type": "stream",
     "text": [
      " 10%|█         | 21/200 [00:04<00:43,  4.12it/s]"
     ]
    },
    {
     "name": "stdout",
     "output_type": "stream",
     "text": [
      "Epoch 020 train_loss 0.0488 val_loss 1.2221 test_acc 0.6540\n"
     ]
    },
    {
     "name": "stderr",
     "output_type": "stream",
     "text": [
      " 11%|█         | 22/200 [00:05<00:44,  4.00it/s]"
     ]
    },
    {
     "name": "stdout",
     "output_type": "stream",
     "text": [
      "Epoch 021 train_loss 0.0419 val_loss 1.2540 test_acc 0.6540\n"
     ]
    },
    {
     "name": "stderr",
     "output_type": "stream",
     "text": [
      " 12%|█▏        | 23/200 [00:05<00:44,  3.96it/s]"
     ]
    },
    {
     "name": "stdout",
     "output_type": "stream",
     "text": [
      "Epoch 022 train_loss 0.0206 val_loss 1.2913 test_acc 0.6500\n"
     ]
    },
    {
     "name": "stderr",
     "output_type": "stream",
     "text": [
      " 12%|█▏        | 24/200 [00:05<00:42,  4.13it/s]"
     ]
    },
    {
     "name": "stdout",
     "output_type": "stream",
     "text": [
      "Epoch 023 train_loss 0.0110 val_loss 1.3299 test_acc 0.6350\n"
     ]
    },
    {
     "name": "stderr",
     "output_type": "stream",
     "text": [
      " 12%|█▎        | 25/200 [00:05<00:42,  4.07it/s]"
     ]
    },
    {
     "name": "stdout",
     "output_type": "stream",
     "text": [
      "Epoch 024 train_loss 0.0265 val_loss 1.3384 test_acc 0.6370\n"
     ]
    },
    {
     "name": "stderr",
     "output_type": "stream",
     "text": [
      " 13%|█▎        | 26/200 [00:06<00:40,  4.25it/s]"
     ]
    },
    {
     "name": "stdout",
     "output_type": "stream",
     "text": [
      "Epoch 025 train_loss 0.0255 val_loss 1.3191 test_acc 0.6370\n"
     ]
    },
    {
     "name": "stderr",
     "output_type": "stream",
     "text": [
      " 14%|█▎        | 27/200 [00:06<00:40,  4.26it/s]"
     ]
    },
    {
     "name": "stdout",
     "output_type": "stream",
     "text": [
      "Epoch 026 train_loss 0.0097 val_loss 1.2926 test_acc 0.6400\n"
     ]
    },
    {
     "name": "stderr",
     "output_type": "stream",
     "text": [
      " 14%|█▍        | 28/200 [00:06<00:38,  4.42it/s]"
     ]
    },
    {
     "name": "stdout",
     "output_type": "stream",
     "text": [
      "Epoch 027 train_loss 0.0214 val_loss 1.2544 test_acc 0.6510\n"
     ]
    },
    {
     "name": "stderr",
     "output_type": "stream",
     "text": [
      " 14%|█▍        | 29/200 [00:06<00:39,  4.38it/s]"
     ]
    },
    {
     "name": "stdout",
     "output_type": "stream",
     "text": [
      "Epoch 028 train_loss 0.0106 val_loss 1.2207 test_acc 0.6540\n"
     ]
    },
    {
     "name": "stderr",
     "output_type": "stream",
     "text": [
      " 15%|█▌        | 30/200 [00:07<00:37,  4.51it/s]"
     ]
    },
    {
     "name": "stdout",
     "output_type": "stream",
     "text": [
      "Epoch 029 train_loss 0.0056 val_loss 1.1932 test_acc 0.6630\n"
     ]
    },
    {
     "name": "stderr",
     "output_type": "stream",
     "text": [
      " 16%|█▌        | 31/200 [00:07<00:37,  4.51it/s]"
     ]
    },
    {
     "name": "stdout",
     "output_type": "stream",
     "text": [
      "Epoch 030 train_loss 0.0095 val_loss 1.1694 test_acc 0.6660\n"
     ]
    },
    {
     "name": "stderr",
     "output_type": "stream",
     "text": [
      " 16%|█▌        | 32/200 [00:07<00:37,  4.53it/s]"
     ]
    },
    {
     "name": "stdout",
     "output_type": "stream",
     "text": [
      "Epoch 031 train_loss 0.0062 val_loss 1.1496 test_acc 0.6710\n"
     ]
    },
    {
     "name": "stderr",
     "output_type": "stream",
     "text": [
      " 16%|█▋        | 33/200 [00:07<00:37,  4.44it/s]"
     ]
    },
    {
     "name": "stdout",
     "output_type": "stream",
     "text": [
      "Epoch 032 train_loss 0.0075 val_loss 1.1332 test_acc 0.6750\n"
     ]
    },
    {
     "name": "stderr",
     "output_type": "stream",
     "text": [
      " 17%|█▋        | 34/200 [00:07<00:36,  4.49it/s]"
     ]
    },
    {
     "name": "stdout",
     "output_type": "stream",
     "text": [
      "Epoch 033 train_loss 0.0184 val_loss 1.1229 test_acc 0.6780\n"
     ]
    },
    {
     "name": "stderr",
     "output_type": "stream",
     "text": [
      " 18%|█▊        | 35/200 [00:08<00:38,  4.34it/s]"
     ]
    },
    {
     "name": "stdout",
     "output_type": "stream",
     "text": [
      "Epoch 034 train_loss 0.0233 val_loss 1.1151 test_acc 0.6730\n"
     ]
    },
    {
     "name": "stderr",
     "output_type": "stream",
     "text": [
      " 18%|█▊        | 36/200 [00:08<00:36,  4.46it/s]"
     ]
    },
    {
     "name": "stdout",
     "output_type": "stream",
     "text": [
      "Epoch 035 train_loss 0.0087 val_loss 1.1121 test_acc 0.6680\n"
     ]
    },
    {
     "name": "stderr",
     "output_type": "stream",
     "text": [
      " 18%|█▊        | 37/200 [00:08<00:37,  4.32it/s]"
     ]
    },
    {
     "name": "stdout",
     "output_type": "stream",
     "text": [
      "Epoch 036 train_loss 0.0251 val_loss 1.1167 test_acc 0.6700\n"
     ]
    },
    {
     "name": "stderr",
     "output_type": "stream",
     "text": [
      " 19%|█▉        | 38/200 [00:08<00:36,  4.41it/s]"
     ]
    },
    {
     "name": "stdout",
     "output_type": "stream",
     "text": [
      "Epoch 037 train_loss 0.0143 val_loss 1.1291 test_acc 0.6630\n"
     ]
    },
    {
     "name": "stderr",
     "output_type": "stream",
     "text": [
      " 20%|█▉        | 39/200 [00:09<00:36,  4.37it/s]"
     ]
    },
    {
     "name": "stdout",
     "output_type": "stream",
     "text": [
      "Epoch 038 train_loss 0.0138 val_loss 1.1442 test_acc 0.6550\n"
     ]
    },
    {
     "name": "stderr",
     "output_type": "stream",
     "text": [
      " 20%|██        | 40/200 [00:09<00:35,  4.49it/s]"
     ]
    },
    {
     "name": "stdout",
     "output_type": "stream",
     "text": [
      "Epoch 039 train_loss 0.0133 val_loss 1.1556 test_acc 0.6550\n"
     ]
    },
    {
     "name": "stderr",
     "output_type": "stream",
     "text": [
      " 20%|██        | 41/200 [00:09<00:36,  4.36it/s]"
     ]
    },
    {
     "name": "stdout",
     "output_type": "stream",
     "text": [
      "Epoch 040 train_loss 0.0288 val_loss 1.1638 test_acc 0.6510\n"
     ]
    },
    {
     "name": "stderr",
     "output_type": "stream",
     "text": [
      " 21%|██        | 42/200 [00:09<00:35,  4.44it/s]"
     ]
    },
    {
     "name": "stdout",
     "output_type": "stream",
     "text": [
      "Epoch 041 train_loss 0.0246 val_loss 1.1499 test_acc 0.6520\n"
     ]
    },
    {
     "name": "stderr",
     "output_type": "stream",
     "text": [
      " 22%|██▏       | 43/200 [00:09<00:36,  4.35it/s]"
     ]
    },
    {
     "name": "stdout",
     "output_type": "stream",
     "text": [
      "Epoch 042 train_loss 0.0165 val_loss 1.1263 test_acc 0.6590\n"
     ]
    },
    {
     "name": "stderr",
     "output_type": "stream",
     "text": [
      " 22%|██▏       | 44/200 [00:10<00:35,  4.35it/s]"
     ]
    },
    {
     "name": "stdout",
     "output_type": "stream",
     "text": [
      "Epoch 043 train_loss 0.0287 val_loss 1.1017 test_acc 0.6660\n"
     ]
    },
    {
     "name": "stderr",
     "output_type": "stream",
     "text": [
      " 22%|██▎       | 45/200 [00:10<00:36,  4.22it/s]"
     ]
    },
    {
     "name": "stdout",
     "output_type": "stream",
     "text": [
      "Epoch 044 train_loss 0.0205 val_loss 1.0793 test_acc 0.6730\n"
     ]
    },
    {
     "name": "stderr",
     "output_type": "stream",
     "text": [
      " 23%|██▎       | 46/200 [00:10<00:36,  4.23it/s]"
     ]
    },
    {
     "name": "stdout",
     "output_type": "stream",
     "text": [
      "Epoch 045 train_loss 0.0173 val_loss 1.0628 test_acc 0.6750\n"
     ]
    },
    {
     "name": "stderr",
     "output_type": "stream",
     "text": [
      " 24%|██▎       | 47/200 [00:10<00:37,  4.07it/s]"
     ]
    },
    {
     "name": "stdout",
     "output_type": "stream",
     "text": [
      "Epoch 046 train_loss 0.0171 val_loss 1.0481 test_acc 0.6780\n"
     ]
    },
    {
     "name": "stderr",
     "output_type": "stream",
     "text": [
      " 24%|██▍       | 48/200 [00:11<00:36,  4.22it/s]"
     ]
    },
    {
     "name": "stdout",
     "output_type": "stream",
     "text": [
      "Epoch 047 train_loss 0.0113 val_loss 1.0387 test_acc 0.6840\n"
     ]
    },
    {
     "name": "stderr",
     "output_type": "stream",
     "text": [
      " 24%|██▍       | 49/200 [00:11<00:36,  4.17it/s]"
     ]
    },
    {
     "name": "stdout",
     "output_type": "stream",
     "text": [
      "Epoch 048 train_loss 0.0135 val_loss 1.0308 test_acc 0.6900\n"
     ]
    },
    {
     "name": "stderr",
     "output_type": "stream",
     "text": [
      " 25%|██▌       | 50/200 [00:11<00:34,  4.30it/s]"
     ]
    },
    {
     "name": "stdout",
     "output_type": "stream",
     "text": [
      "Epoch 049 train_loss 0.0179 val_loss 1.0228 test_acc 0.6900\n"
     ]
    },
    {
     "name": "stderr",
     "output_type": "stream",
     "text": [
      " 26%|██▌       | 51/200 [00:11<00:35,  4.25it/s]"
     ]
    },
    {
     "name": "stdout",
     "output_type": "stream",
     "text": [
      "Epoch 050 train_loss 0.0205 val_loss 1.0165 test_acc 0.6850\n"
     ]
    },
    {
     "name": "stderr",
     "output_type": "stream",
     "text": [
      " 26%|██▌       | 52/200 [00:12<00:34,  4.34it/s]"
     ]
    },
    {
     "name": "stdout",
     "output_type": "stream",
     "text": [
      "Epoch 051 train_loss 0.0214 val_loss 1.0120 test_acc 0.6850\n"
     ]
    },
    {
     "name": "stderr",
     "output_type": "stream",
     "text": [
      " 26%|██▋       | 53/200 [00:12<00:34,  4.22it/s]"
     ]
    },
    {
     "name": "stdout",
     "output_type": "stream",
     "text": [
      "Epoch 052 train_loss 0.0114 val_loss 1.0096 test_acc 0.6890\n"
     ]
    },
    {
     "name": "stderr",
     "output_type": "stream",
     "text": [
      " 27%|██▋       | 54/200 [00:12<00:33,  4.32it/s]"
     ]
    },
    {
     "name": "stdout",
     "output_type": "stream",
     "text": [
      "Epoch 053 train_loss 0.0145 val_loss 1.0095 test_acc 0.6850\n"
     ]
    },
    {
     "name": "stderr",
     "output_type": "stream",
     "text": [
      " 28%|██▊       | 55/200 [00:12<00:34,  4.25it/s]"
     ]
    },
    {
     "name": "stdout",
     "output_type": "stream",
     "text": [
      "Epoch 054 train_loss 0.0158 val_loss 1.0153 test_acc 0.6850\n"
     ]
    },
    {
     "name": "stderr",
     "output_type": "stream",
     "text": [
      " 28%|██▊       | 56/200 [00:13<00:33,  4.35it/s]"
     ]
    },
    {
     "name": "stdout",
     "output_type": "stream",
     "text": [
      "Epoch 055 train_loss 0.0310 val_loss 1.0249 test_acc 0.6870\n"
     ]
    },
    {
     "name": "stderr",
     "output_type": "stream",
     "text": [
      " 28%|██▊       | 57/200 [00:13<00:33,  4.23it/s]"
     ]
    },
    {
     "name": "stdout",
     "output_type": "stream",
     "text": [
      "Epoch 056 train_loss 0.0166 val_loss 1.0364 test_acc 0.6820\n"
     ]
    },
    {
     "name": "stderr",
     "output_type": "stream",
     "text": [
      " 29%|██▉       | 58/200 [00:13<00:32,  4.34it/s]"
     ]
    },
    {
     "name": "stdout",
     "output_type": "stream",
     "text": [
      "Epoch 057 train_loss 0.0259 val_loss 1.0457 test_acc 0.6840\n"
     ]
    },
    {
     "name": "stderr",
     "output_type": "stream",
     "text": [
      " 30%|██▉       | 59/200 [00:13<00:33,  4.27it/s]"
     ]
    },
    {
     "name": "stdout",
     "output_type": "stream",
     "text": [
      "Epoch 058 train_loss 0.0212 val_loss 1.0568 test_acc 0.6860\n"
     ]
    },
    {
     "name": "stderr",
     "output_type": "stream",
     "text": [
      " 30%|███       | 60/200 [00:13<00:32,  4.34it/s]"
     ]
    },
    {
     "name": "stdout",
     "output_type": "stream",
     "text": [
      "Epoch 059 train_loss 0.0153 val_loss 1.0663 test_acc 0.6830\n"
     ]
    },
    {
     "name": "stderr",
     "output_type": "stream",
     "text": [
      " 30%|███       | 61/200 [00:14<00:32,  4.33it/s]"
     ]
    },
    {
     "name": "stdout",
     "output_type": "stream",
     "text": [
      "Epoch 060 train_loss 0.0251 val_loss 1.0742 test_acc 0.6790\n"
     ]
    },
    {
     "name": "stderr",
     "output_type": "stream",
     "text": [
      " 31%|███       | 62/200 [00:14<00:32,  4.26it/s]"
     ]
    },
    {
     "name": "stdout",
     "output_type": "stream",
     "text": [
      "Epoch 061 train_loss 0.0188 val_loss 1.0830 test_acc 0.6770\n"
     ]
    },
    {
     "name": "stderr",
     "output_type": "stream",
     "text": [
      " 32%|███▏      | 63/200 [00:14<00:33,  4.08it/s]"
     ]
    },
    {
     "name": "stdout",
     "output_type": "stream",
     "text": [
      "Epoch 062 train_loss 0.0188 val_loss 1.0915 test_acc 0.6710\n"
     ]
    },
    {
     "name": "stderr",
     "output_type": "stream",
     "text": [
      " 32%|███▏      | 64/200 [00:14<00:31,  4.26it/s]"
     ]
    },
    {
     "name": "stdout",
     "output_type": "stream",
     "text": [
      "Epoch 063 train_loss 0.0196 val_loss 1.0977 test_acc 0.6570\n"
     ]
    },
    {
     "name": "stderr",
     "output_type": "stream",
     "text": [
      " 32%|███▎      | 65/200 [00:15<00:33,  4.07it/s]"
     ]
    },
    {
     "name": "stdout",
     "output_type": "stream",
     "text": [
      "Epoch 064 train_loss 0.0264 val_loss 1.0980 test_acc 0.6640\n"
     ]
    },
    {
     "name": "stderr",
     "output_type": "stream",
     "text": [
      " 33%|███▎      | 66/200 [00:15<00:32,  4.15it/s]"
     ]
    },
    {
     "name": "stdout",
     "output_type": "stream",
     "text": [
      "Epoch 065 train_loss 0.0144 val_loss 1.0965 test_acc 0.6670\n"
     ]
    },
    {
     "name": "stderr",
     "output_type": "stream",
     "text": [
      " 34%|███▎      | 67/200 [00:15<00:32,  4.10it/s]"
     ]
    },
    {
     "name": "stdout",
     "output_type": "stream",
     "text": [
      "Epoch 066 train_loss 0.0188 val_loss 1.0887 test_acc 0.6690\n"
     ]
    },
    {
     "name": "stderr",
     "output_type": "stream",
     "text": [
      " 34%|███▍      | 68/200 [00:15<00:31,  4.22it/s]"
     ]
    },
    {
     "name": "stdout",
     "output_type": "stream",
     "text": [
      "Epoch 067 train_loss 0.0126 val_loss 1.0831 test_acc 0.6760\n"
     ]
    },
    {
     "name": "stderr",
     "output_type": "stream",
     "text": [
      " 34%|███▍      | 69/200 [00:16<00:31,  4.14it/s]"
     ]
    },
    {
     "name": "stdout",
     "output_type": "stream",
     "text": [
      "Epoch 068 train_loss 0.0244 val_loss 1.0787 test_acc 0.6840\n"
     ]
    },
    {
     "name": "stderr",
     "output_type": "stream",
     "text": [
      " 35%|███▌      | 70/200 [00:16<00:30,  4.32it/s]"
     ]
    },
    {
     "name": "stdout",
     "output_type": "stream",
     "text": [
      "Epoch 069 train_loss 0.0164 val_loss 1.0806 test_acc 0.6880\n"
     ]
    },
    {
     "name": "stderr",
     "output_type": "stream",
     "text": [
      " 36%|███▌      | 71/200 [00:16<00:30,  4.17it/s]"
     ]
    },
    {
     "name": "stdout",
     "output_type": "stream",
     "text": [
      "Epoch 070 train_loss 0.0226 val_loss 1.0900 test_acc 0.6930\n"
     ]
    },
    {
     "name": "stderr",
     "output_type": "stream",
     "text": [
      " 36%|███▌      | 72/200 [00:16<00:30,  4.23it/s]"
     ]
    },
    {
     "name": "stdout",
     "output_type": "stream",
     "text": [
      "Epoch 071 train_loss 0.0164 val_loss 1.0929 test_acc 0.6850\n"
     ]
    },
    {
     "name": "stderr",
     "output_type": "stream",
     "text": [
      " 36%|███▋      | 73/200 [00:17<00:30,  4.11it/s]"
     ]
    },
    {
     "name": "stdout",
     "output_type": "stream",
     "text": [
      "Epoch 072 train_loss 0.0261 val_loss 1.0785 test_acc 0.6930\n"
     ]
    },
    {
     "name": "stderr",
     "output_type": "stream",
     "text": [
      " 37%|███▋      | 74/200 [00:17<00:30,  4.16it/s]"
     ]
    },
    {
     "name": "stdout",
     "output_type": "stream",
     "text": [
      "Epoch 073 train_loss 0.0152 val_loss 1.0718 test_acc 0.6940\n"
     ]
    },
    {
     "name": "stderr",
     "output_type": "stream",
     "text": [
      " 38%|███▊      | 75/200 [00:17<00:32,  3.90it/s]"
     ]
    },
    {
     "name": "stdout",
     "output_type": "stream",
     "text": [
      "Epoch 074 train_loss 0.0126 val_loss 1.0672 test_acc 0.6950\n"
     ]
    },
    {
     "name": "stderr",
     "output_type": "stream",
     "text": [
      " 38%|███▊      | 76/200 [00:17<00:31,  3.95it/s]"
     ]
    },
    {
     "name": "stdout",
     "output_type": "stream",
     "text": [
      "Epoch 075 train_loss 0.0161 val_loss 1.0664 test_acc 0.6960\n"
     ]
    },
    {
     "name": "stderr",
     "output_type": "stream",
     "text": [
      " 38%|███▊      | 77/200 [00:18<00:31,  3.85it/s]"
     ]
    },
    {
     "name": "stdout",
     "output_type": "stream",
     "text": [
      "Epoch 076 train_loss 0.0204 val_loss 1.0730 test_acc 0.7020\n"
     ]
    },
    {
     "name": "stderr",
     "output_type": "stream",
     "text": [
      " 39%|███▉      | 78/200 [00:18<00:31,  3.84it/s]"
     ]
    },
    {
     "name": "stdout",
     "output_type": "stream",
     "text": [
      "Epoch 077 train_loss 0.0087 val_loss 1.0805 test_acc 0.6930\n"
     ]
    },
    {
     "name": "stderr",
     "output_type": "stream",
     "text": [
      " 40%|███▉      | 79/200 [00:18<00:32,  3.75it/s]"
     ]
    },
    {
     "name": "stdout",
     "output_type": "stream",
     "text": [
      "Epoch 078 train_loss 0.0166 val_loss 1.0873 test_acc 0.6860\n"
     ]
    },
    {
     "name": "stderr",
     "output_type": "stream",
     "text": [
      " 40%|████      | 80/200 [00:18<00:31,  3.85it/s]"
     ]
    },
    {
     "name": "stdout",
     "output_type": "stream",
     "text": [
      "Epoch 079 train_loss 0.0124 val_loss 1.0926 test_acc 0.6860\n"
     ]
    },
    {
     "name": "stderr",
     "output_type": "stream",
     "text": [
      " 40%|████      | 81/200 [00:19<00:31,  3.78it/s]"
     ]
    },
    {
     "name": "stdout",
     "output_type": "stream",
     "text": [
      "Epoch 080 train_loss 0.0110 val_loss 1.0971 test_acc 0.6810\n"
     ]
    },
    {
     "name": "stderr",
     "output_type": "stream",
     "text": [
      " 41%|████      | 82/200 [00:19<00:31,  3.77it/s]"
     ]
    },
    {
     "name": "stdout",
     "output_type": "stream",
     "text": [
      "Epoch 081 train_loss 0.0086 val_loss 1.0994 test_acc 0.6810\n"
     ]
    },
    {
     "name": "stderr",
     "output_type": "stream",
     "text": [
      " 42%|████▏     | 83/200 [00:19<00:32,  3.63it/s]"
     ]
    },
    {
     "name": "stdout",
     "output_type": "stream",
     "text": [
      "Epoch 082 train_loss 0.0125 val_loss 1.1015 test_acc 0.6800\n"
     ]
    },
    {
     "name": "stderr",
     "output_type": "stream",
     "text": [
      " 42%|████▏     | 84/200 [00:20<00:31,  3.67it/s]"
     ]
    },
    {
     "name": "stdout",
     "output_type": "stream",
     "text": [
      "Epoch 083 train_loss 0.0124 val_loss 1.1013 test_acc 0.6820\n"
     ]
    },
    {
     "name": "stderr",
     "output_type": "stream",
     "text": [
      " 42%|████▎     | 85/200 [00:20<00:32,  3.52it/s]"
     ]
    },
    {
     "name": "stdout",
     "output_type": "stream",
     "text": [
      "Epoch 084 train_loss 0.0104 val_loss 1.0956 test_acc 0.6800\n"
     ]
    },
    {
     "name": "stderr",
     "output_type": "stream",
     "text": [
      " 43%|████▎     | 86/200 [00:20<00:31,  3.58it/s]"
     ]
    },
    {
     "name": "stdout",
     "output_type": "stream",
     "text": [
      "Epoch 085 train_loss 0.0256 val_loss 1.0965 test_acc 0.6770\n"
     ]
    },
    {
     "name": "stderr",
     "output_type": "stream",
     "text": [
      " 44%|████▎     | 87/200 [00:20<00:32,  3.44it/s]"
     ]
    },
    {
     "name": "stdout",
     "output_type": "stream",
     "text": [
      "Epoch 086 train_loss 0.0083 val_loss 1.0999 test_acc 0.6780\n"
     ]
    },
    {
     "name": "stderr",
     "output_type": "stream",
     "text": [
      " 44%|████▍     | 88/200 [00:21<00:31,  3.53it/s]"
     ]
    },
    {
     "name": "stdout",
     "output_type": "stream",
     "text": [
      "Epoch 087 train_loss 0.0140 val_loss 1.1009 test_acc 0.6790\n"
     ]
    },
    {
     "name": "stderr",
     "output_type": "stream",
     "text": [
      " 44%|████▍     | 89/200 [00:21<00:31,  3.50it/s]"
     ]
    },
    {
     "name": "stdout",
     "output_type": "stream",
     "text": [
      "Epoch 088 train_loss 0.0185 val_loss 1.1017 test_acc 0.6860\n"
     ]
    },
    {
     "name": "stderr",
     "output_type": "stream",
     "text": [
      " 45%|████▌     | 90/200 [00:21<00:31,  3.54it/s]"
     ]
    },
    {
     "name": "stdout",
     "output_type": "stream",
     "text": [
      "Epoch 089 train_loss 0.0185 val_loss 1.1030 test_acc 0.6790\n"
     ]
    },
    {
     "name": "stderr",
     "output_type": "stream",
     "text": [
      " 46%|████▌     | 91/200 [00:22<00:31,  3.46it/s]"
     ]
    },
    {
     "name": "stdout",
     "output_type": "stream",
     "text": [
      "Epoch 090 train_loss 0.0122 val_loss 1.1065 test_acc 0.6720\n"
     ]
    },
    {
     "name": "stderr",
     "output_type": "stream",
     "text": [
      " 46%|████▌     | 92/200 [00:22<00:30,  3.58it/s]"
     ]
    },
    {
     "name": "stdout",
     "output_type": "stream",
     "text": [
      "Epoch 091 train_loss 0.0099 val_loss 1.1109 test_acc 0.6680\n"
     ]
    },
    {
     "name": "stderr",
     "output_type": "stream",
     "text": [
      " 46%|████▋     | 93/200 [00:22<00:30,  3.53it/s]"
     ]
    },
    {
     "name": "stdout",
     "output_type": "stream",
     "text": [
      "Epoch 092 train_loss 0.0097 val_loss 1.1121 test_acc 0.6680\n"
     ]
    },
    {
     "name": "stderr",
     "output_type": "stream",
     "text": [
      " 47%|████▋     | 94/200 [00:22<00:30,  3.52it/s]"
     ]
    },
    {
     "name": "stdout",
     "output_type": "stream",
     "text": [
      "Epoch 093 train_loss 0.0171 val_loss 1.1102 test_acc 0.6640\n"
     ]
    },
    {
     "name": "stderr",
     "output_type": "stream",
     "text": [
      " 48%|████▊     | 95/200 [00:23<00:30,  3.40it/s]"
     ]
    },
    {
     "name": "stdout",
     "output_type": "stream",
     "text": [
      "Epoch 094 train_loss 0.0124 val_loss 1.1091 test_acc 0.6700\n"
     ]
    },
    {
     "name": "stderr",
     "output_type": "stream",
     "text": [
      " 48%|████▊     | 96/200 [00:23<00:29,  3.53it/s]"
     ]
    },
    {
     "name": "stdout",
     "output_type": "stream",
     "text": [
      "Epoch 095 train_loss 0.0088 val_loss 1.1086 test_acc 0.6710\n"
     ]
    },
    {
     "name": "stderr",
     "output_type": "stream",
     "text": [
      " 48%|████▊     | 97/200 [00:23<00:29,  3.51it/s]"
     ]
    },
    {
     "name": "stdout",
     "output_type": "stream",
     "text": [
      "Epoch 096 train_loss 0.0194 val_loss 1.1059 test_acc 0.6760\n"
     ]
    },
    {
     "name": "stderr",
     "output_type": "stream",
     "text": [
      " 49%|████▉     | 98/200 [00:24<00:28,  3.60it/s]"
     ]
    },
    {
     "name": "stdout",
     "output_type": "stream",
     "text": [
      "Epoch 097 train_loss 0.0132 val_loss 1.1038 test_acc 0.6850\n"
     ]
    },
    {
     "name": "stderr",
     "output_type": "stream",
     "text": [
      " 50%|████▉     | 99/200 [00:24<00:28,  3.52it/s]"
     ]
    },
    {
     "name": "stdout",
     "output_type": "stream",
     "text": [
      "Epoch 098 train_loss 0.0135 val_loss 1.1046 test_acc 0.6830\n"
     ]
    },
    {
     "name": "stderr",
     "output_type": "stream",
     "text": [
      " 50%|█████     | 100/200 [00:24<00:28,  3.53it/s]"
     ]
    },
    {
     "name": "stdout",
     "output_type": "stream",
     "text": [
      "Epoch 099 train_loss 0.0109 val_loss 1.1087 test_acc 0.6830\n"
     ]
    },
    {
     "name": "stderr",
     "output_type": "stream",
     "text": [
      " 50%|█████     | 101/200 [00:24<00:28,  3.41it/s]"
     ]
    },
    {
     "name": "stdout",
     "output_type": "stream",
     "text": [
      "Epoch 100 train_loss 0.0100 val_loss 1.1156 test_acc 0.6810\n"
     ]
    },
    {
     "name": "stderr",
     "output_type": "stream",
     "text": [
      " 51%|█████     | 102/200 [00:25<00:28,  3.38it/s]"
     ]
    },
    {
     "name": "stdout",
     "output_type": "stream",
     "text": [
      "Epoch 101 train_loss 0.0067 val_loss 1.1226 test_acc 0.6860\n"
     ]
    },
    {
     "name": "stderr",
     "output_type": "stream",
     "text": [
      " 52%|█████▏    | 103/200 [00:25<00:29,  3.27it/s]"
     ]
    },
    {
     "name": "stdout",
     "output_type": "stream",
     "text": [
      "Epoch 102 train_loss 0.0178 val_loss 1.1287 test_acc 0.6830\n"
     ]
    },
    {
     "name": "stderr",
     "output_type": "stream",
     "text": [
      " 52%|█████▏    | 104/200 [00:25<00:28,  3.33it/s]"
     ]
    },
    {
     "name": "stdout",
     "output_type": "stream",
     "text": [
      "Epoch 103 train_loss 0.0140 val_loss 1.1354 test_acc 0.6800\n"
     ]
    },
    {
     "name": "stderr",
     "output_type": "stream",
     "text": [
      " 52%|█████▎    | 105/200 [00:26<00:27,  3.40it/s]"
     ]
    },
    {
     "name": "stdout",
     "output_type": "stream",
     "text": [
      "Epoch 104 train_loss 0.0194 val_loss 1.1424 test_acc 0.6760\n"
     ]
    },
    {
     "name": "stderr",
     "output_type": "stream",
     "text": [
      " 53%|█████▎    | 106/200 [00:26<00:28,  3.34it/s]"
     ]
    },
    {
     "name": "stdout",
     "output_type": "stream",
     "text": [
      "Epoch 105 train_loss 0.0093 val_loss 1.1513 test_acc 0.6710\n"
     ]
    },
    {
     "name": "stderr",
     "output_type": "stream",
     "text": [
      " 54%|█████▎    | 107/200 [00:26<00:27,  3.44it/s]"
     ]
    },
    {
     "name": "stdout",
     "output_type": "stream",
     "text": [
      "Epoch 106 train_loss 0.0083 val_loss 1.1525 test_acc 0.6700\n"
     ]
    },
    {
     "name": "stderr",
     "output_type": "stream",
     "text": [
      " 54%|█████▍    | 108/200 [00:27<00:26,  3.44it/s]"
     ]
    },
    {
     "name": "stdout",
     "output_type": "stream",
     "text": [
      "Epoch 107 train_loss 0.0098 val_loss 1.1543 test_acc 0.6680\n"
     ]
    },
    {
     "name": "stderr",
     "output_type": "stream",
     "text": [
      " 55%|█████▍    | 109/200 [00:27<00:24,  3.70it/s]"
     ]
    },
    {
     "name": "stdout",
     "output_type": "stream",
     "text": [
      "Epoch 108 train_loss 0.0082 val_loss 1.1543 test_acc 0.6610\n"
     ]
    },
    {
     "name": "stderr",
     "output_type": "stream",
     "text": [
      " 55%|█████▌    | 110/200 [00:27<00:24,  3.67it/s]"
     ]
    },
    {
     "name": "stdout",
     "output_type": "stream",
     "text": [
      "Epoch 109 train_loss 0.0101 val_loss 1.1553 test_acc 0.6610\n"
     ]
    },
    {
     "name": "stderr",
     "output_type": "stream",
     "text": [
      " 56%|█████▌    | 111/200 [00:27<00:23,  3.86it/s]"
     ]
    },
    {
     "name": "stdout",
     "output_type": "stream",
     "text": [
      "Epoch 110 train_loss 0.0103 val_loss 1.1548 test_acc 0.6630\n"
     ]
    },
    {
     "name": "stderr",
     "output_type": "stream",
     "text": [
      " 56%|█████▌    | 112/200 [00:27<00:22,  3.92it/s]"
     ]
    },
    {
     "name": "stdout",
     "output_type": "stream",
     "text": [
      "Epoch 111 train_loss 0.0113 val_loss 1.1502 test_acc 0.6680\n"
     ]
    },
    {
     "name": "stderr",
     "output_type": "stream",
     "text": [
      " 56%|█████▋    | 113/200 [00:28<00:21,  3.98it/s]"
     ]
    },
    {
     "name": "stdout",
     "output_type": "stream",
     "text": [
      "Epoch 112 train_loss 0.0079 val_loss 1.1444 test_acc 0.6760\n"
     ]
    },
    {
     "name": "stderr",
     "output_type": "stream",
     "text": [
      " 57%|█████▋    | 114/200 [00:28<00:21,  3.96it/s]"
     ]
    },
    {
     "name": "stdout",
     "output_type": "stream",
     "text": [
      "Epoch 113 train_loss 0.0196 val_loss 1.1365 test_acc 0.6820\n"
     ]
    },
    {
     "name": "stderr",
     "output_type": "stream",
     "text": [
      " 57%|█████▊    | 115/200 [00:28<00:20,  4.15it/s]"
     ]
    },
    {
     "name": "stdout",
     "output_type": "stream",
     "text": [
      "Epoch 114 train_loss 0.0102 val_loss 1.1304 test_acc 0.6840\n"
     ]
    },
    {
     "name": "stderr",
     "output_type": "stream",
     "text": [
      " 58%|█████▊    | 116/200 [00:28<00:20,  4.10it/s]"
     ]
    },
    {
     "name": "stdout",
     "output_type": "stream",
     "text": [
      "Epoch 115 train_loss 0.0120 val_loss 1.1237 test_acc 0.6840\n"
     ]
    },
    {
     "name": "stderr",
     "output_type": "stream",
     "text": [
      " 58%|█████▊    | 117/200 [00:29<00:19,  4.26it/s]"
     ]
    },
    {
     "name": "stdout",
     "output_type": "stream",
     "text": [
      "Epoch 116 train_loss 0.0069 val_loss 1.1180 test_acc 0.6830\n"
     ]
    },
    {
     "name": "stderr",
     "output_type": "stream",
     "text": [
      " 59%|█████▉    | 118/200 [00:29<00:19,  4.18it/s]"
     ]
    },
    {
     "name": "stdout",
     "output_type": "stream",
     "text": [
      "Epoch 117 train_loss 0.0120 val_loss 1.1124 test_acc 0.6790\n"
     ]
    },
    {
     "name": "stderr",
     "output_type": "stream",
     "text": [
      " 60%|█████▉    | 119/200 [00:29<00:19,  4.25it/s]"
     ]
    },
    {
     "name": "stdout",
     "output_type": "stream",
     "text": [
      "Epoch 118 train_loss 0.0097 val_loss 1.1061 test_acc 0.6850\n"
     ]
    },
    {
     "name": "stderr",
     "output_type": "stream",
     "text": [
      " 60%|██████    | 120/200 [00:29<00:19,  4.14it/s]"
     ]
    },
    {
     "name": "stdout",
     "output_type": "stream",
     "text": [
      "Epoch 119 train_loss 0.0174 val_loss 1.1104 test_acc 0.6850\n"
     ]
    },
    {
     "name": "stderr",
     "output_type": "stream",
     "text": [
      " 60%|██████    | 121/200 [00:30<00:18,  4.18it/s]"
     ]
    },
    {
     "name": "stdout",
     "output_type": "stream",
     "text": [
      "Epoch 120 train_loss 0.0068 val_loss 1.1160 test_acc 0.6730\n"
     ]
    },
    {
     "name": "stderr",
     "output_type": "stream",
     "text": [
      " 61%|██████    | 122/200 [00:30<00:19,  4.05it/s]"
     ]
    },
    {
     "name": "stdout",
     "output_type": "stream",
     "text": [
      "Epoch 121 train_loss 0.0124 val_loss 1.1217 test_acc 0.6710\n"
     ]
    },
    {
     "name": "stderr",
     "output_type": "stream",
     "text": [
      " 62%|██████▏   | 123/200 [00:30<00:18,  4.23it/s]"
     ]
    },
    {
     "name": "stdout",
     "output_type": "stream",
     "text": [
      "Epoch 122 train_loss 0.0093 val_loss 1.1257 test_acc 0.6650\n"
     ]
    },
    {
     "name": "stderr",
     "output_type": "stream",
     "text": [
      " 62%|██████▏   | 124/200 [00:30<00:18,  4.15it/s]"
     ]
    },
    {
     "name": "stdout",
     "output_type": "stream",
     "text": [
      "Epoch 123 train_loss 0.0110 val_loss 1.1248 test_acc 0.6650\n"
     ]
    },
    {
     "name": "stderr",
     "output_type": "stream",
     "text": [
      " 62%|██████▎   | 125/200 [00:31<00:17,  4.31it/s]"
     ]
    },
    {
     "name": "stdout",
     "output_type": "stream",
     "text": [
      "Epoch 124 train_loss 0.0153 val_loss 1.1094 test_acc 0.6710\n"
     ]
    },
    {
     "name": "stderr",
     "output_type": "stream",
     "text": [
      " 63%|██████▎   | 126/200 [00:31<00:17,  4.27it/s]"
     ]
    },
    {
     "name": "stdout",
     "output_type": "stream",
     "text": [
      "Epoch 125 train_loss 0.0098 val_loss 1.0898 test_acc 0.6760\n"
     ]
    },
    {
     "name": "stderr",
     "output_type": "stream",
     "text": [
      " 64%|██████▎   | 127/200 [00:31<00:16,  4.38it/s]"
     ]
    },
    {
     "name": "stdout",
     "output_type": "stream",
     "text": [
      "Epoch 126 train_loss 0.0071 val_loss 1.0732 test_acc 0.6830\n"
     ]
    },
    {
     "name": "stderr",
     "output_type": "stream",
     "text": [
      " 64%|██████▍   | 128/200 [00:31<00:16,  4.29it/s]"
     ]
    },
    {
     "name": "stdout",
     "output_type": "stream",
     "text": [
      "Epoch 127 train_loss 0.0085 val_loss 1.0557 test_acc 0.6880\n"
     ]
    },
    {
     "name": "stderr",
     "output_type": "stream",
     "text": [
      " 64%|██████▍   | 129/200 [00:31<00:15,  4.46it/s]"
     ]
    },
    {
     "name": "stdout",
     "output_type": "stream",
     "text": [
      "Epoch 128 train_loss 0.0091 val_loss 1.0445 test_acc 0.6930\n"
     ]
    },
    {
     "name": "stderr",
     "output_type": "stream",
     "text": [
      " 65%|██████▌   | 130/200 [00:32<00:16,  4.30it/s]"
     ]
    },
    {
     "name": "stdout",
     "output_type": "stream",
     "text": [
      "Epoch 129 train_loss 0.0061 val_loss 1.0387 test_acc 0.6960\n"
     ]
    },
    {
     "name": "stderr",
     "output_type": "stream",
     "text": [
      " 66%|██████▌   | 131/200 [00:32<00:15,  4.48it/s]"
     ]
    },
    {
     "name": "stdout",
     "output_type": "stream",
     "text": [
      "Epoch 130 train_loss 0.0087 val_loss 1.0360 test_acc 0.7000\n"
     ]
    },
    {
     "name": "stderr",
     "output_type": "stream",
     "text": [
      " 66%|██████▌   | 132/200 [00:32<00:15,  4.31it/s]"
     ]
    },
    {
     "name": "stdout",
     "output_type": "stream",
     "text": [
      "Epoch 131 train_loss 0.0094 val_loss 1.0377 test_acc 0.7010\n"
     ]
    },
    {
     "name": "stderr",
     "output_type": "stream",
     "text": [
      " 66%|██████▋   | 133/200 [00:32<00:15,  4.44it/s]"
     ]
    },
    {
     "name": "stdout",
     "output_type": "stream",
     "text": [
      "Epoch 132 train_loss 0.0076 val_loss 1.0403 test_acc 0.7060\n"
     ]
    },
    {
     "name": "stderr",
     "output_type": "stream",
     "text": [
      " 67%|██████▋   | 134/200 [00:33<00:15,  4.31it/s]"
     ]
    },
    {
     "name": "stdout",
     "output_type": "stream",
     "text": [
      "Epoch 133 train_loss 0.0129 val_loss 1.0477 test_acc 0.7040\n"
     ]
    },
    {
     "name": "stderr",
     "output_type": "stream",
     "text": [
      " 68%|██████▊   | 135/200 [00:33<00:14,  4.39it/s]"
     ]
    },
    {
     "name": "stdout",
     "output_type": "stream",
     "text": [
      "Epoch 134 train_loss 0.0134 val_loss 1.0597 test_acc 0.7070\n"
     ]
    },
    {
     "name": "stderr",
     "output_type": "stream",
     "text": [
      " 68%|██████▊   | 136/200 [00:33<00:14,  4.45it/s]"
     ]
    },
    {
     "name": "stdout",
     "output_type": "stream",
     "text": [
      "Epoch 135 train_loss 0.0072 val_loss 1.0741 test_acc 0.6990\n"
     ]
    },
    {
     "name": "stderr",
     "output_type": "stream",
     "text": [
      " 68%|██████▊   | 137/200 [00:33<00:14,  4.27it/s]"
     ]
    },
    {
     "name": "stdout",
     "output_type": "stream",
     "text": [
      "Epoch 136 train_loss 0.0076 val_loss 1.0935 test_acc 0.6880\n"
     ]
    },
    {
     "name": "stderr",
     "output_type": "stream",
     "text": [
      " 69%|██████▉   | 138/200 [00:34<00:14,  4.41it/s]"
     ]
    },
    {
     "name": "stdout",
     "output_type": "stream",
     "text": [
      "Epoch 137 train_loss 0.0141 val_loss 1.1110 test_acc 0.6750\n"
     ]
    },
    {
     "name": "stderr",
     "output_type": "stream",
     "text": [
      " 70%|██████▉   | 139/200 [00:34<00:13,  4.38it/s]"
     ]
    },
    {
     "name": "stdout",
     "output_type": "stream",
     "text": [
      "Epoch 138 train_loss 0.0213 val_loss 1.1147 test_acc 0.6760\n"
     ]
    },
    {
     "name": "stderr",
     "output_type": "stream",
     "text": [
      " 70%|███████   | 140/200 [00:34<00:13,  4.42it/s]"
     ]
    },
    {
     "name": "stdout",
     "output_type": "stream",
     "text": [
      "Epoch 139 train_loss 0.0087 val_loss 1.1177 test_acc 0.6760\n"
     ]
    },
    {
     "name": "stderr",
     "output_type": "stream",
     "text": [
      " 70%|███████   | 141/200 [00:34<00:13,  4.27it/s]"
     ]
    },
    {
     "name": "stdout",
     "output_type": "stream",
     "text": [
      "Epoch 140 train_loss 0.0064 val_loss 1.1227 test_acc 0.6790\n"
     ]
    },
    {
     "name": "stderr",
     "output_type": "stream",
     "text": [
      " 71%|███████   | 142/200 [00:34<00:13,  4.32it/s]"
     ]
    },
    {
     "name": "stdout",
     "output_type": "stream",
     "text": [
      "Epoch 141 train_loss 0.0081 val_loss 1.1269 test_acc 0.6760\n"
     ]
    },
    {
     "name": "stderr",
     "output_type": "stream",
     "text": [
      " 72%|███████▏  | 143/200 [00:35<00:12,  4.48it/s]"
     ]
    },
    {
     "name": "stdout",
     "output_type": "stream",
     "text": [
      "Epoch 142 train_loss 0.0092 val_loss 1.1294 test_acc 0.6710\n"
     ]
    },
    {
     "name": "stderr",
     "output_type": "stream",
     "text": [
      " 72%|███████▏  | 144/200 [00:35<00:12,  4.43it/s]"
     ]
    },
    {
     "name": "stdout",
     "output_type": "stream",
     "text": [
      "Epoch 143 train_loss 0.0189 val_loss 1.1312 test_acc 0.6680\n"
     ]
    },
    {
     "name": "stderr",
     "output_type": "stream",
     "text": [
      " 72%|███████▎  | 145/200 [00:35<00:12,  4.43it/s]"
     ]
    },
    {
     "name": "stdout",
     "output_type": "stream",
     "text": [
      "Epoch 144 train_loss 0.0080 val_loss 1.1339 test_acc 0.6700\n"
     ]
    },
    {
     "name": "stderr",
     "output_type": "stream",
     "text": [
      " 73%|███████▎  | 146/200 [00:35<00:12,  4.19it/s]"
     ]
    },
    {
     "name": "stdout",
     "output_type": "stream",
     "text": [
      "Epoch 145 train_loss 0.0109 val_loss 1.1344 test_acc 0.6680\n"
     ]
    },
    {
     "name": "stderr",
     "output_type": "stream",
     "text": [
      " 74%|███████▎  | 147/200 [00:36<00:12,  4.36it/s]"
     ]
    },
    {
     "name": "stdout",
     "output_type": "stream",
     "text": [
      "Epoch 146 train_loss 0.0119 val_loss 1.1343 test_acc 0.6670\n"
     ]
    },
    {
     "name": "stderr",
     "output_type": "stream",
     "text": [
      " 74%|███████▍  | 148/200 [00:36<00:12,  4.30it/s]"
     ]
    },
    {
     "name": "stdout",
     "output_type": "stream",
     "text": [
      "Epoch 147 train_loss 0.0152 val_loss 1.1252 test_acc 0.6710\n"
     ]
    },
    {
     "name": "stderr",
     "output_type": "stream",
     "text": [
      " 74%|███████▍  | 149/200 [00:36<00:11,  4.40it/s]"
     ]
    },
    {
     "name": "stdout",
     "output_type": "stream",
     "text": [
      "Epoch 148 train_loss 0.0071 val_loss 1.1185 test_acc 0.6800\n"
     ]
    },
    {
     "name": "stderr",
     "output_type": "stream",
     "text": [
      " 75%|███████▌  | 150/200 [00:36<00:11,  4.49it/s]"
     ]
    },
    {
     "name": "stdout",
     "output_type": "stream",
     "text": [
      "Epoch 149 train_loss 0.0114 val_loss 1.1124 test_acc 0.6820\n"
     ]
    },
    {
     "name": "stderr",
     "output_type": "stream",
     "text": [
      " 76%|███████▌  | 151/200 [00:36<00:10,  4.56it/s]"
     ]
    },
    {
     "name": "stdout",
     "output_type": "stream",
     "text": [
      "Epoch 150 train_loss 0.0140 val_loss 1.1021 test_acc 0.6880\n"
     ]
    },
    {
     "name": "stderr",
     "output_type": "stream",
     "text": [
      " 76%|███████▌  | 152/200 [00:37<00:10,  4.43it/s]"
     ]
    },
    {
     "name": "stdout",
     "output_type": "stream",
     "text": [
      "Epoch 151 train_loss 0.0161 val_loss 1.0914 test_acc 0.6990\n"
     ]
    },
    {
     "name": "stderr",
     "output_type": "stream",
     "text": [
      " 76%|███████▋  | 153/200 [00:37<00:10,  4.55it/s]"
     ]
    },
    {
     "name": "stdout",
     "output_type": "stream",
     "text": [
      "Epoch 152 train_loss 0.0102 val_loss 1.0855 test_acc 0.7070\n"
     ]
    },
    {
     "name": "stderr",
     "output_type": "stream",
     "text": [
      " 77%|███████▋  | 154/200 [00:37<00:10,  4.24it/s]"
     ]
    },
    {
     "name": "stdout",
     "output_type": "stream",
     "text": [
      "Epoch 153 train_loss 0.0094 val_loss 1.0844 test_acc 0.7050\n"
     ]
    },
    {
     "name": "stderr",
     "output_type": "stream",
     "text": [
      " 78%|███████▊  | 155/200 [00:37<00:10,  4.27it/s]"
     ]
    },
    {
     "name": "stdout",
     "output_type": "stream",
     "text": [
      "Epoch 154 train_loss 0.0165 val_loss 1.0849 test_acc 0.7050\n"
     ]
    },
    {
     "name": "stderr",
     "output_type": "stream",
     "text": [
      " 78%|███████▊  | 156/200 [00:38<00:10,  4.23it/s]"
     ]
    },
    {
     "name": "stdout",
     "output_type": "stream",
     "text": [
      "Epoch 155 train_loss 0.0082 val_loss 1.0886 test_acc 0.7080\n"
     ]
    },
    {
     "name": "stderr",
     "output_type": "stream",
     "text": [
      " 78%|███████▊  | 157/200 [00:38<00:10,  4.26it/s]"
     ]
    },
    {
     "name": "stdout",
     "output_type": "stream",
     "text": [
      "Epoch 156 train_loss 0.0071 val_loss 1.0938 test_acc 0.7080\n"
     ]
    },
    {
     "name": "stderr",
     "output_type": "stream",
     "text": [
      " 79%|███████▉  | 158/200 [00:38<00:09,  4.21it/s]"
     ]
    },
    {
     "name": "stdout",
     "output_type": "stream",
     "text": [
      "Epoch 157 train_loss 0.0160 val_loss 1.1179 test_acc 0.7000\n"
     ]
    },
    {
     "name": "stderr",
     "output_type": "stream",
     "text": [
      " 80%|███████▉  | 159/200 [00:38<00:09,  4.17it/s]"
     ]
    },
    {
     "name": "stdout",
     "output_type": "stream",
     "text": [
      "Epoch 158 train_loss 0.0087 val_loss 1.1508 test_acc 0.6850\n"
     ]
    },
    {
     "name": "stderr",
     "output_type": "stream",
     "text": [
      " 80%|████████  | 160/200 [00:39<00:09,  4.03it/s]"
     ]
    },
    {
     "name": "stdout",
     "output_type": "stream",
     "text": [
      "Epoch 159 train_loss 0.0076 val_loss 1.1921 test_acc 0.6690\n"
     ]
    },
    {
     "name": "stderr",
     "output_type": "stream",
     "text": [
      " 80%|████████  | 161/200 [00:39<00:09,  4.03it/s]"
     ]
    },
    {
     "name": "stdout",
     "output_type": "stream",
     "text": [
      "Epoch 160 train_loss 0.0155 val_loss 1.2219 test_acc 0.6590\n"
     ]
    },
    {
     "name": "stderr",
     "output_type": "stream",
     "text": [
      " 81%|████████  | 162/200 [00:39<00:09,  4.16it/s]"
     ]
    },
    {
     "name": "stdout",
     "output_type": "stream",
     "text": [
      "Epoch 161 train_loss 0.0220 val_loss 1.2374 test_acc 0.6540\n"
     ]
    },
    {
     "name": "stderr",
     "output_type": "stream",
     "text": [
      " 82%|████████▏ | 163/200 [00:39<00:08,  4.30it/s]"
     ]
    },
    {
     "name": "stdout",
     "output_type": "stream",
     "text": [
      "Epoch 162 train_loss 0.0162 val_loss 1.2479 test_acc 0.6560\n"
     ]
    },
    {
     "name": "stderr",
     "output_type": "stream",
     "text": [
      " 82%|████████▏ | 164/200 [00:40<00:08,  4.21it/s]"
     ]
    },
    {
     "name": "stdout",
     "output_type": "stream",
     "text": [
      "Epoch 163 train_loss 0.0085 val_loss 1.2432 test_acc 0.6620\n"
     ]
    },
    {
     "name": "stderr",
     "output_type": "stream",
     "text": [
      " 82%|████████▎ | 165/200 [00:40<00:08,  4.19it/s]"
     ]
    },
    {
     "name": "stdout",
     "output_type": "stream",
     "text": [
      "Epoch 164 train_loss 0.0047 val_loss 1.2369 test_acc 0.6650\n"
     ]
    },
    {
     "name": "stderr",
     "output_type": "stream",
     "text": [
      " 83%|████████▎ | 166/200 [00:40<00:07,  4.33it/s]"
     ]
    },
    {
     "name": "stdout",
     "output_type": "stream",
     "text": [
      "Epoch 165 train_loss 0.0114 val_loss 1.2186 test_acc 0.6620\n"
     ]
    },
    {
     "name": "stderr",
     "output_type": "stream",
     "text": [
      " 84%|████████▎ | 167/200 [00:40<00:07,  4.28it/s]"
     ]
    },
    {
     "name": "stdout",
     "output_type": "stream",
     "text": [
      "Epoch 166 train_loss 0.0115 val_loss 1.1998 test_acc 0.6690\n"
     ]
    },
    {
     "name": "stderr",
     "output_type": "stream",
     "text": [
      " 84%|████████▍ | 168/200 [00:41<00:07,  4.38it/s]"
     ]
    },
    {
     "name": "stdout",
     "output_type": "stream",
     "text": [
      "Epoch 167 train_loss 0.0064 val_loss 1.1856 test_acc 0.6730\n"
     ]
    },
    {
     "name": "stderr",
     "output_type": "stream",
     "text": [
      " 84%|████████▍ | 169/200 [00:41<00:07,  4.32it/s]"
     ]
    },
    {
     "name": "stdout",
     "output_type": "stream",
     "text": [
      "Epoch 168 train_loss 0.0107 val_loss 1.1735 test_acc 0.6790\n"
     ]
    },
    {
     "name": "stderr",
     "output_type": "stream",
     "text": [
      " 85%|████████▌ | 170/200 [00:41<00:07,  4.27it/s]"
     ]
    },
    {
     "name": "stdout",
     "output_type": "stream",
     "text": [
      "Epoch 169 train_loss 0.0110 val_loss 1.1621 test_acc 0.6860\n"
     ]
    },
    {
     "name": "stderr",
     "output_type": "stream",
     "text": [
      " 86%|████████▌ | 171/200 [00:41<00:06,  4.18it/s]"
     ]
    },
    {
     "name": "stdout",
     "output_type": "stream",
     "text": [
      "Epoch 170 train_loss 0.0088 val_loss 1.1536 test_acc 0.6870\n"
     ]
    },
    {
     "name": "stderr",
     "output_type": "stream",
     "text": [
      " 86%|████████▌ | 172/200 [00:41<00:06,  4.24it/s]"
     ]
    },
    {
     "name": "stdout",
     "output_type": "stream",
     "text": [
      "Epoch 171 train_loss 0.0099 val_loss 1.1446 test_acc 0.6910\n"
     ]
    },
    {
     "name": "stderr",
     "output_type": "stream",
     "text": [
      " 86%|████████▋ | 173/200 [00:42<00:06,  4.17it/s]"
     ]
    },
    {
     "name": "stdout",
     "output_type": "stream",
     "text": [
      "Epoch 172 train_loss 0.0084 val_loss 1.1406 test_acc 0.6900\n"
     ]
    },
    {
     "name": "stderr",
     "output_type": "stream",
     "text": [
      " 87%|████████▋ | 174/200 [00:42<00:06,  3.96it/s]"
     ]
    },
    {
     "name": "stdout",
     "output_type": "stream",
     "text": [
      "Epoch 173 train_loss 0.0077 val_loss 1.1423 test_acc 0.6880\n"
     ]
    },
    {
     "name": "stderr",
     "output_type": "stream",
     "text": [
      " 88%|████████▊ | 175/200 [00:42<00:06,  3.96it/s]"
     ]
    },
    {
     "name": "stdout",
     "output_type": "stream",
     "text": [
      "Epoch 174 train_loss 0.0067 val_loss 1.1480 test_acc 0.6860\n"
     ]
    },
    {
     "name": "stderr",
     "output_type": "stream",
     "text": [
      " 88%|████████▊ | 176/200 [00:43<00:06,  3.81it/s]"
     ]
    },
    {
     "name": "stdout",
     "output_type": "stream",
     "text": [
      "Epoch 175 train_loss 0.0091 val_loss 1.1483 test_acc 0.6870\n"
     ]
    },
    {
     "name": "stderr",
     "output_type": "stream",
     "text": [
      " 88%|████████▊ | 177/200 [00:43<00:05,  3.85it/s]"
     ]
    },
    {
     "name": "stdout",
     "output_type": "stream",
     "text": [
      "Epoch 176 train_loss 0.0055 val_loss 1.1478 test_acc 0.6910\n"
     ]
    },
    {
     "name": "stderr",
     "output_type": "stream",
     "text": [
      " 89%|████████▉ | 178/200 [00:43<00:05,  3.76it/s]"
     ]
    },
    {
     "name": "stdout",
     "output_type": "stream",
     "text": [
      "Epoch 177 train_loss 0.0137 val_loss 1.1494 test_acc 0.6930\n"
     ]
    },
    {
     "name": "stderr",
     "output_type": "stream",
     "text": [
      " 90%|████████▉ | 179/200 [00:43<00:05,  3.84it/s]"
     ]
    },
    {
     "name": "stdout",
     "output_type": "stream",
     "text": [
      "Epoch 178 train_loss 0.0130 val_loss 1.1587 test_acc 0.6910\n"
     ]
    },
    {
     "name": "stderr",
     "output_type": "stream",
     "text": [
      " 90%|█████████ | 180/200 [00:44<00:05,  3.79it/s]"
     ]
    },
    {
     "name": "stdout",
     "output_type": "stream",
     "text": [
      "Epoch 179 train_loss 0.0155 val_loss 1.1736 test_acc 0.6800\n"
     ]
    },
    {
     "name": "stderr",
     "output_type": "stream",
     "text": [
      " 90%|█████████ | 181/200 [00:44<00:04,  3.88it/s]"
     ]
    },
    {
     "name": "stdout",
     "output_type": "stream",
     "text": [
      "Epoch 180 train_loss 0.0058 val_loss 1.1945 test_acc 0.6750\n"
     ]
    },
    {
     "name": "stderr",
     "output_type": "stream",
     "text": [
      " 91%|█████████ | 182/200 [00:44<00:04,  3.81it/s]"
     ]
    },
    {
     "name": "stdout",
     "output_type": "stream",
     "text": [
      "Epoch 181 train_loss 0.0096 val_loss 1.2014 test_acc 0.6680\n"
     ]
    },
    {
     "name": "stderr",
     "output_type": "stream",
     "text": [
      " 92%|█████████▏| 183/200 [00:44<00:04,  3.87it/s]"
     ]
    },
    {
     "name": "stdout",
     "output_type": "stream",
     "text": [
      "Epoch 182 train_loss 0.0076 val_loss 1.2082 test_acc 0.6590\n"
     ]
    },
    {
     "name": "stderr",
     "output_type": "stream",
     "text": [
      " 92%|█████████▏| 184/200 [00:45<00:04,  3.72it/s]"
     ]
    },
    {
     "name": "stdout",
     "output_type": "stream",
     "text": [
      "Epoch 183 train_loss 0.0088 val_loss 1.2197 test_acc 0.6530\n"
     ]
    },
    {
     "name": "stderr",
     "output_type": "stream",
     "text": [
      " 92%|█████████▎| 185/200 [00:45<00:03,  3.79it/s]"
     ]
    },
    {
     "name": "stdout",
     "output_type": "stream",
     "text": [
      "Epoch 184 train_loss 0.0080 val_loss 1.2241 test_acc 0.6550\n"
     ]
    },
    {
     "name": "stderr",
     "output_type": "stream",
     "text": [
      " 93%|█████████▎| 186/200 [00:45<00:03,  3.67it/s]"
     ]
    },
    {
     "name": "stdout",
     "output_type": "stream",
     "text": [
      "Epoch 185 train_loss 0.0085 val_loss 1.2160 test_acc 0.6610\n"
     ]
    },
    {
     "name": "stderr",
     "output_type": "stream",
     "text": [
      " 94%|█████████▎| 187/200 [00:45<00:03,  3.81it/s]"
     ]
    },
    {
     "name": "stdout",
     "output_type": "stream",
     "text": [
      "Epoch 186 train_loss 0.0072 val_loss 1.2081 test_acc 0.6620\n"
     ]
    },
    {
     "name": "stderr",
     "output_type": "stream",
     "text": [
      " 94%|█████████▍| 188/200 [00:46<00:03,  3.67it/s]"
     ]
    },
    {
     "name": "stdout",
     "output_type": "stream",
     "text": [
      "Epoch 187 train_loss 0.0086 val_loss 1.1981 test_acc 0.6680\n"
     ]
    },
    {
     "name": "stderr",
     "output_type": "stream",
     "text": [
      " 94%|█████████▍| 189/200 [00:46<00:02,  3.70it/s]"
     ]
    },
    {
     "name": "stdout",
     "output_type": "stream",
     "text": [
      "Epoch 188 train_loss 0.0088 val_loss 1.1947 test_acc 0.6720\n"
     ]
    },
    {
     "name": "stderr",
     "output_type": "stream",
     "text": [
      " 95%|█████████▌| 190/200 [00:46<00:02,  3.44it/s]"
     ]
    },
    {
     "name": "stdout",
     "output_type": "stream",
     "text": [
      "Epoch 189 train_loss 0.0114 val_loss 1.1904 test_acc 0.6790\n"
     ]
    },
    {
     "name": "stderr",
     "output_type": "stream",
     "text": [
      " 96%|█████████▌| 191/200 [00:47<00:02,  3.54it/s]"
     ]
    },
    {
     "name": "stdout",
     "output_type": "stream",
     "text": [
      "Epoch 190 train_loss 0.0091 val_loss 1.1850 test_acc 0.6840\n"
     ]
    },
    {
     "name": "stderr",
     "output_type": "stream",
     "text": [
      " 96%|█████████▌| 192/200 [00:47<00:02,  3.54it/s]"
     ]
    },
    {
     "name": "stdout",
     "output_type": "stream",
     "text": [
      "Epoch 191 train_loss 0.0100 val_loss 1.1832 test_acc 0.6800\n"
     ]
    },
    {
     "name": "stderr",
     "output_type": "stream",
     "text": [
      " 96%|█████████▋| 193/200 [00:47<00:01,  3.64it/s]"
     ]
    },
    {
     "name": "stdout",
     "output_type": "stream",
     "text": [
      "Epoch 192 train_loss 0.0060 val_loss 1.1780 test_acc 0.6800\n"
     ]
    },
    {
     "name": "stderr",
     "output_type": "stream",
     "text": [
      " 97%|█████████▋| 194/200 [00:47<00:01,  3.70it/s]"
     ]
    },
    {
     "name": "stdout",
     "output_type": "stream",
     "text": [
      "Epoch 193 train_loss 0.0084 val_loss 1.1735 test_acc 0.6780\n"
     ]
    },
    {
     "name": "stderr",
     "output_type": "stream",
     "text": [
      " 98%|█████████▊| 195/200 [00:48<00:01,  3.52it/s]"
     ]
    },
    {
     "name": "stdout",
     "output_type": "stream",
     "text": [
      "Epoch 194 train_loss 0.0095 val_loss 1.1753 test_acc 0.6760\n"
     ]
    },
    {
     "name": "stderr",
     "output_type": "stream",
     "text": [
      " 98%|█████████▊| 196/200 [00:48<00:01,  3.53it/s]"
     ]
    },
    {
     "name": "stdout",
     "output_type": "stream",
     "text": [
      "Epoch 195 train_loss 0.0163 val_loss 1.1686 test_acc 0.6790\n"
     ]
    },
    {
     "name": "stderr",
     "output_type": "stream",
     "text": [
      " 98%|█████████▊| 197/200 [00:48<00:00,  3.50it/s]"
     ]
    },
    {
     "name": "stdout",
     "output_type": "stream",
     "text": [
      "Epoch 196 train_loss 0.0058 val_loss 1.1630 test_acc 0.6750\n"
     ]
    },
    {
     "name": "stderr",
     "output_type": "stream",
     "text": [
      " 99%|█████████▉| 198/200 [00:49<00:00,  3.34it/s]"
     ]
    },
    {
     "name": "stdout",
     "output_type": "stream",
     "text": [
      "Epoch 197 train_loss 0.0097 val_loss 1.1671 test_acc 0.6710\n"
     ]
    },
    {
     "name": "stderr",
     "output_type": "stream",
     "text": [
      "100%|█████████▉| 199/200 [00:49<00:00,  3.42it/s]"
     ]
    },
    {
     "name": "stdout",
     "output_type": "stream",
     "text": [
      "Epoch 198 train_loss 0.0095 val_loss 1.1893 test_acc 0.6690\n"
     ]
    },
    {
     "name": "stderr",
     "output_type": "stream",
     "text": [
      "100%|██████████| 200/200 [00:49<00:00,  4.02it/s]"
     ]
    },
    {
     "name": "stdout",
     "output_type": "stream",
     "text": [
      "Epoch 199 train_loss 0.0136 val_loss 1.2118 test_acc 0.6610\n",
      "test acc: 0.685\n"
     ]
    },
    {
     "name": "stderr",
     "output_type": "stream",
     "text": [
      "\n"
     ]
    }
   ],
   "source": [
    "import os\n",
    "\n",
    "from get_data import load_data\n",
    "from models import GAT\n",
    "from util import train, device\n",
    "\n",
    "path = os.path.abspath(os.path.dirname(os.getcwd())) + \"/data\"\n",
    "\n",
    "\n",
    "def main():\n",
    "    dataset, num_in_feats, num_out_feats = load_data(path, name='CiteSeer')\n",
    "    model = GAT(num_in_feats, 64, num_out_feats).to(device)\n",
    "    model, test_acc = train(model, dataset)\n",
    "    print('test acc:', test_acc)\n",
    "\n",
    "\n",
    "if __name__ == '__main__':\n",
    "    main()"
   ]
  },
  {
   "cell_type": "markdown",
   "metadata": {},
   "source": [
    "# 3)GraphSAGE"
   ]
  },
  {
   "cell_type": "code",
   "execution_count": 13,
   "metadata": {},
   "outputs": [
    {
     "name": "stderr",
     "output_type": "stream",
     "text": [
      "  1%|          | 2/200 [00:00<00:30,  6.47it/s]"
     ]
    },
    {
     "name": "stdout",
     "output_type": "stream",
     "text": [
      "Epoch 000 train_loss 1.7989 val_loss 1.5193 test_acc 0.5690\n",
      "Epoch 001 train_loss 1.2769 val_loss 1.3833 test_acc 0.6130\n"
     ]
    },
    {
     "name": "stderr",
     "output_type": "stream",
     "text": [
      "  2%|▏         | 4/200 [00:00<00:28,  6.78it/s]"
     ]
    },
    {
     "name": "stdout",
     "output_type": "stream",
     "text": [
      "Epoch 002 train_loss 1.0902 val_loss 1.4292 test_acc 0.6060\n",
      "Epoch 003 train_loss 1.0742 val_loss 1.4091 test_acc 0.6150\n"
     ]
    },
    {
     "name": "stderr",
     "output_type": "stream",
     "text": [
      "  3%|▎         | 6/200 [00:00<00:30,  6.35it/s]"
     ]
    },
    {
     "name": "stdout",
     "output_type": "stream",
     "text": [
      "Epoch 004 train_loss 1.0444 val_loss 1.3761 test_acc 0.6210\n",
      "Epoch 005 train_loss 1.0270 val_loss 1.3633 test_acc 0.6290\n"
     ]
    },
    {
     "name": "stderr",
     "output_type": "stream",
     "text": [
      "  4%|▍         | 8/200 [00:01<00:28,  6.67it/s]"
     ]
    },
    {
     "name": "stdout",
     "output_type": "stream",
     "text": [
      "Epoch 006 train_loss 1.0169 val_loss 1.3689 test_acc 0.6270\n",
      "Epoch 007 train_loss 1.0191 val_loss 1.3755 test_acc 0.6290\n"
     ]
    },
    {
     "name": "stderr",
     "output_type": "stream",
     "text": [
      "  4%|▍         | 9/200 [00:01<00:28,  6.71it/s]"
     ]
    },
    {
     "name": "stdout",
     "output_type": "stream",
     "text": [
      "Epoch 008 train_loss 1.0198 val_loss 1.3774 test_acc 0.6260\n"
     ]
    },
    {
     "name": "stderr",
     "output_type": "stream",
     "text": [
      "  6%|▌         | 11/200 [00:01<00:28,  6.65it/s]"
     ]
    },
    {
     "name": "stdout",
     "output_type": "stream",
     "text": [
      "Epoch 009 train_loss 1.0184 val_loss 1.3754 test_acc 0.6240\n",
      "Epoch 010 train_loss 1.0102 val_loss 1.3736 test_acc 0.6250\n"
     ]
    },
    {
     "name": "stderr",
     "output_type": "stream",
     "text": [
      "  6%|▋         | 13/200 [00:01<00:28,  6.55it/s]"
     ]
    },
    {
     "name": "stdout",
     "output_type": "stream",
     "text": [
      "Epoch 011 train_loss 1.0049 val_loss 1.3732 test_acc 0.6290\n",
      "Epoch 012 train_loss 1.0023 val_loss 1.3754 test_acc 0.6270\n"
     ]
    },
    {
     "name": "stderr",
     "output_type": "stream",
     "text": [
      "  8%|▊         | 15/200 [00:02<00:27,  6.84it/s]"
     ]
    },
    {
     "name": "stdout",
     "output_type": "stream",
     "text": [
      "Epoch 013 train_loss 1.0013 val_loss 1.3801 test_acc 0.6190\n",
      "Epoch 014 train_loss 1.0006 val_loss 1.3828 test_acc 0.6200\n"
     ]
    },
    {
     "name": "stderr",
     "output_type": "stream",
     "text": [
      "  8%|▊         | 17/200 [00:02<00:28,  6.51it/s]"
     ]
    },
    {
     "name": "stdout",
     "output_type": "stream",
     "text": [
      "Epoch 015 train_loss 1.0023 val_loss 1.3821 test_acc 0.6200\n",
      "Epoch 016 train_loss 1.0011 val_loss 1.3778 test_acc 0.6230\n"
     ]
    },
    {
     "name": "stderr",
     "output_type": "stream",
     "text": [
      " 10%|▉         | 19/200 [00:02<00:26,  6.81it/s]"
     ]
    },
    {
     "name": "stdout",
     "output_type": "stream",
     "text": [
      "Epoch 017 train_loss 1.0005 val_loss 1.3722 test_acc 0.6310\n",
      "Epoch 018 train_loss 1.0011 val_loss 1.3677 test_acc 0.6360\n"
     ]
    },
    {
     "name": "stderr",
     "output_type": "stream",
     "text": [
      " 10%|█         | 21/200 [00:03<00:27,  6.52it/s]"
     ]
    },
    {
     "name": "stdout",
     "output_type": "stream",
     "text": [
      "Epoch 019 train_loss 0.9976 val_loss 1.3647 test_acc 0.6400\n",
      "Epoch 020 train_loss 0.9950 val_loss 1.3643 test_acc 0.6430\n"
     ]
    },
    {
     "name": "stderr",
     "output_type": "stream",
     "text": [
      " 12%|█▏        | 23/200 [00:03<00:26,  6.73it/s]"
     ]
    },
    {
     "name": "stdout",
     "output_type": "stream",
     "text": [
      "Epoch 021 train_loss 0.9967 val_loss 1.3654 test_acc 0.6400\n",
      "Epoch 022 train_loss 0.9969 val_loss 1.3675 test_acc 0.6370\n"
     ]
    },
    {
     "name": "stderr",
     "output_type": "stream",
     "text": [
      " 12%|█▎        | 25/200 [00:03<00:27,  6.44it/s]"
     ]
    },
    {
     "name": "stdout",
     "output_type": "stream",
     "text": [
      "Epoch 023 train_loss 0.9955 val_loss 1.3686 test_acc 0.6360\n",
      "Epoch 024 train_loss 0.9973 val_loss 1.3688 test_acc 0.6320\n"
     ]
    },
    {
     "name": "stderr",
     "output_type": "stream",
     "text": [
      " 14%|█▎        | 27/200 [00:04<00:26,  6.65it/s]"
     ]
    },
    {
     "name": "stdout",
     "output_type": "stream",
     "text": [
      "Epoch 025 train_loss 0.9967 val_loss 1.3676 test_acc 0.6320\n",
      "Epoch 026 train_loss 0.9942 val_loss 1.3661 test_acc 0.6330\n"
     ]
    },
    {
     "name": "stderr",
     "output_type": "stream",
     "text": [
      " 14%|█▍        | 29/200 [00:04<00:25,  6.83it/s]"
     ]
    },
    {
     "name": "stdout",
     "output_type": "stream",
     "text": [
      "Epoch 027 train_loss 0.9943 val_loss 1.3646 test_acc 0.6290\n",
      "Epoch 028 train_loss 0.9933 val_loss 1.3639 test_acc 0.6290\n"
     ]
    },
    {
     "name": "stderr",
     "output_type": "stream",
     "text": [
      " 16%|█▌        | 31/200 [00:04<00:24,  6.84it/s]"
     ]
    },
    {
     "name": "stdout",
     "output_type": "stream",
     "text": [
      "Epoch 029 train_loss 0.9928 val_loss 1.3637 test_acc 0.6310\n",
      "Epoch 030 train_loss 0.9953 val_loss 1.3635 test_acc 0.6270\n"
     ]
    },
    {
     "name": "stderr",
     "output_type": "stream",
     "text": [
      " 16%|█▋        | 33/200 [00:04<00:24,  6.74it/s]"
     ]
    },
    {
     "name": "stdout",
     "output_type": "stream",
     "text": [
      "Epoch 031 train_loss 0.9949 val_loss 1.3628 test_acc 0.6270\n",
      "Epoch 032 train_loss 0.9947 val_loss 1.3616 test_acc 0.6280\n"
     ]
    },
    {
     "name": "stderr",
     "output_type": "stream",
     "text": [
      " 18%|█▊        | 35/200 [00:05<00:24,  6.79it/s]"
     ]
    },
    {
     "name": "stdout",
     "output_type": "stream",
     "text": [
      "Epoch 033 train_loss 0.9926 val_loss 1.3606 test_acc 0.6310\n",
      "Epoch 034 train_loss 0.9922 val_loss 1.3602 test_acc 0.6350\n"
     ]
    },
    {
     "name": "stderr",
     "output_type": "stream",
     "text": [
      " 18%|█▊        | 37/200 [00:05<00:24,  6.78it/s]"
     ]
    },
    {
     "name": "stdout",
     "output_type": "stream",
     "text": [
      "Epoch 035 train_loss 0.9923 val_loss 1.3596 test_acc 0.6360\n",
      "Epoch 036 train_loss 0.9911 val_loss 1.3583 test_acc 0.6420\n"
     ]
    },
    {
     "name": "stderr",
     "output_type": "stream",
     "text": [
      " 20%|█▉        | 39/200 [00:05<00:23,  6.75it/s]"
     ]
    },
    {
     "name": "stdout",
     "output_type": "stream",
     "text": [
      "Epoch 037 train_loss 0.9919 val_loss 1.3568 test_acc 0.6450\n",
      "Epoch 038 train_loss 0.9911 val_loss 1.3557 test_acc 0.6440\n"
     ]
    },
    {
     "name": "stderr",
     "output_type": "stream",
     "text": [
      " 20%|██        | 41/200 [00:06<00:23,  6.73it/s]"
     ]
    },
    {
     "name": "stdout",
     "output_type": "stream",
     "text": [
      "Epoch 039 train_loss 0.9925 val_loss 1.3544 test_acc 0.6460\n",
      "Epoch 040 train_loss 0.9915 val_loss 1.3534 test_acc 0.6470\n"
     ]
    },
    {
     "name": "stderr",
     "output_type": "stream",
     "text": [
      " 22%|██▏       | 43/200 [00:06<00:24,  6.49it/s]"
     ]
    },
    {
     "name": "stdout",
     "output_type": "stream",
     "text": [
      "Epoch 041 train_loss 0.9911 val_loss 1.3528 test_acc 0.6500\n",
      "Epoch 042 train_loss 0.9907 val_loss 1.3529 test_acc 0.6490\n"
     ]
    },
    {
     "name": "stderr",
     "output_type": "stream",
     "text": [
      " 22%|██▎       | 45/200 [00:06<00:22,  6.89it/s]"
     ]
    },
    {
     "name": "stdout",
     "output_type": "stream",
     "text": [
      "Epoch 043 train_loss 0.9901 val_loss 1.3529 test_acc 0.6470\n",
      "Epoch 044 train_loss 0.9917 val_loss 1.3536 test_acc 0.6450\n"
     ]
    },
    {
     "name": "stderr",
     "output_type": "stream",
     "text": [
      " 24%|██▎       | 47/200 [00:07<00:21,  6.96it/s]"
     ]
    },
    {
     "name": "stdout",
     "output_type": "stream",
     "text": [
      "Epoch 045 train_loss 0.9890 val_loss 1.3545 test_acc 0.6450\n",
      "Epoch 046 train_loss 0.9909 val_loss 1.3548 test_acc 0.6470\n"
     ]
    },
    {
     "name": "stderr",
     "output_type": "stream",
     "text": [
      " 24%|██▍       | 49/200 [00:07<00:21,  6.94it/s]"
     ]
    },
    {
     "name": "stdout",
     "output_type": "stream",
     "text": [
      "Epoch 047 train_loss 0.9914 val_loss 1.3546 test_acc 0.6470\n",
      "Epoch 048 train_loss 0.9905 val_loss 1.3540 test_acc 0.6460\n"
     ]
    },
    {
     "name": "stderr",
     "output_type": "stream",
     "text": [
      " 26%|██▌       | 51/200 [00:07<00:20,  7.10it/s]"
     ]
    },
    {
     "name": "stdout",
     "output_type": "stream",
     "text": [
      "Epoch 049 train_loss 0.9923 val_loss 1.3533 test_acc 0.6470\n",
      "Epoch 050 train_loss 0.9907 val_loss 1.3528 test_acc 0.6530\n"
     ]
    },
    {
     "name": "stderr",
     "output_type": "stream",
     "text": [
      " 26%|██▋       | 53/200 [00:07<00:20,  7.14it/s]"
     ]
    },
    {
     "name": "stdout",
     "output_type": "stream",
     "text": [
      "Epoch 051 train_loss 0.9894 val_loss 1.3521 test_acc 0.6560\n",
      "Epoch 052 train_loss 0.9904 val_loss 1.3515 test_acc 0.6560\n"
     ]
    },
    {
     "name": "stderr",
     "output_type": "stream",
     "text": [
      " 28%|██▊       | 55/200 [00:08<00:20,  7.16it/s]"
     ]
    },
    {
     "name": "stdout",
     "output_type": "stream",
     "text": [
      "Epoch 053 train_loss 0.9910 val_loss 1.3501 test_acc 0.6580\n",
      "Epoch 054 train_loss 0.9903 val_loss 1.3492 test_acc 0.6570\n"
     ]
    },
    {
     "name": "stderr",
     "output_type": "stream",
     "text": [
      " 28%|██▊       | 57/200 [00:08<00:20,  7.11it/s]"
     ]
    },
    {
     "name": "stdout",
     "output_type": "stream",
     "text": [
      "Epoch 055 train_loss 0.9905 val_loss 1.3488 test_acc 0.6540\n",
      "Epoch 056 train_loss 0.9900 val_loss 1.3489 test_acc 0.6550\n"
     ]
    },
    {
     "name": "stderr",
     "output_type": "stream",
     "text": [
      " 30%|██▉       | 59/200 [00:08<00:19,  7.06it/s]"
     ]
    },
    {
     "name": "stdout",
     "output_type": "stream",
     "text": [
      "Epoch 057 train_loss 0.9898 val_loss 1.3495 test_acc 0.6530\n",
      "Epoch 058 train_loss 0.9903 val_loss 1.3500 test_acc 0.6530\n"
     ]
    },
    {
     "name": "stderr",
     "output_type": "stream",
     "text": [
      " 30%|███       | 61/200 [00:08<00:20,  6.91it/s]"
     ]
    },
    {
     "name": "stdout",
     "output_type": "stream",
     "text": [
      "Epoch 059 train_loss 0.9893 val_loss 1.3501 test_acc 0.6510\n",
      "Epoch 060 train_loss 0.9884 val_loss 1.3501 test_acc 0.6540\n"
     ]
    },
    {
     "name": "stderr",
     "output_type": "stream",
     "text": [
      " 32%|███▏      | 63/200 [00:09<00:19,  6.89it/s]"
     ]
    },
    {
     "name": "stdout",
     "output_type": "stream",
     "text": [
      "Epoch 061 train_loss 0.9895 val_loss 1.3496 test_acc 0.6520\n",
      "Epoch 062 train_loss 0.9902 val_loss 1.3476 test_acc 0.6580\n"
     ]
    },
    {
     "name": "stderr",
     "output_type": "stream",
     "text": [
      " 32%|███▎      | 65/200 [00:09<00:19,  6.86it/s]"
     ]
    },
    {
     "name": "stdout",
     "output_type": "stream",
     "text": [
      "Epoch 063 train_loss 0.9887 val_loss 1.3460 test_acc 0.6560\n",
      "Epoch 064 train_loss 0.9908 val_loss 1.3446 test_acc 0.6550\n"
     ]
    },
    {
     "name": "stderr",
     "output_type": "stream",
     "text": [
      " 34%|███▎      | 67/200 [00:09<00:19,  6.90it/s]"
     ]
    },
    {
     "name": "stdout",
     "output_type": "stream",
     "text": [
      "Epoch 065 train_loss 0.9903 val_loss 1.3437 test_acc 0.6570\n",
      "Epoch 066 train_loss 0.9897 val_loss 1.3432 test_acc 0.6640\n"
     ]
    },
    {
     "name": "stderr",
     "output_type": "stream",
     "text": [
      " 34%|███▍      | 69/200 [00:10<00:18,  7.04it/s]"
     ]
    },
    {
     "name": "stdout",
     "output_type": "stream",
     "text": [
      "Epoch 067 train_loss 0.9907 val_loss 1.3433 test_acc 0.6670\n",
      "Epoch 068 train_loss 0.9901 val_loss 1.3438 test_acc 0.6700\n"
     ]
    },
    {
     "name": "stderr",
     "output_type": "stream",
     "text": [
      " 36%|███▌      | 71/200 [00:10<00:18,  7.14it/s]"
     ]
    },
    {
     "name": "stdout",
     "output_type": "stream",
     "text": [
      "Epoch 069 train_loss 0.9887 val_loss 1.3450 test_acc 0.6620\n",
      "Epoch 070 train_loss 0.9894 val_loss 1.3458 test_acc 0.6610\n"
     ]
    },
    {
     "name": "stderr",
     "output_type": "stream",
     "text": [
      " 36%|███▋      | 73/200 [00:10<00:18,  7.00it/s]"
     ]
    },
    {
     "name": "stdout",
     "output_type": "stream",
     "text": [
      "Epoch 071 train_loss 0.9899 val_loss 1.3462 test_acc 0.6610\n",
      "Epoch 072 train_loss 0.9896 val_loss 1.3464 test_acc 0.6590\n"
     ]
    },
    {
     "name": "stderr",
     "output_type": "stream",
     "text": [
      " 38%|███▊      | 75/200 [00:10<00:17,  7.03it/s]"
     ]
    },
    {
     "name": "stdout",
     "output_type": "stream",
     "text": [
      "Epoch 073 train_loss 0.9890 val_loss 1.3455 test_acc 0.6620\n",
      "Epoch 074 train_loss 0.9906 val_loss 1.3452 test_acc 0.6590\n"
     ]
    },
    {
     "name": "stderr",
     "output_type": "stream",
     "text": [
      " 38%|███▊      | 77/200 [00:11<00:17,  7.00it/s]"
     ]
    },
    {
     "name": "stdout",
     "output_type": "stream",
     "text": [
      "Epoch 075 train_loss 0.9881 val_loss 1.3458 test_acc 0.6590\n",
      "Epoch 076 train_loss 0.9891 val_loss 1.3472 test_acc 0.6600\n"
     ]
    },
    {
     "name": "stderr",
     "output_type": "stream",
     "text": [
      " 40%|███▉      | 79/200 [00:11<00:17,  7.07it/s]"
     ]
    },
    {
     "name": "stdout",
     "output_type": "stream",
     "text": [
      "Epoch 077 train_loss 0.9883 val_loss 1.3488 test_acc 0.6560\n",
      "Epoch 078 train_loss 0.9903 val_loss 1.3494 test_acc 0.6540\n"
     ]
    },
    {
     "name": "stderr",
     "output_type": "stream",
     "text": [
      " 40%|████      | 81/200 [00:11<00:16,  7.05it/s]"
     ]
    },
    {
     "name": "stdout",
     "output_type": "stream",
     "text": [
      "Epoch 079 train_loss 0.9897 val_loss 1.3486 test_acc 0.6560\n",
      "Epoch 080 train_loss 0.9878 val_loss 1.3467 test_acc 0.6580\n"
     ]
    },
    {
     "name": "stderr",
     "output_type": "stream",
     "text": [
      " 42%|████▏     | 83/200 [00:12<00:17,  6.86it/s]"
     ]
    },
    {
     "name": "stdout",
     "output_type": "stream",
     "text": [
      "Epoch 081 train_loss 0.9897 val_loss 1.3443 test_acc 0.6630\n",
      "Epoch 082 train_loss 0.9889 val_loss 1.3430 test_acc 0.6640\n"
     ]
    },
    {
     "name": "stderr",
     "output_type": "stream",
     "text": [
      " 42%|████▎     | 85/200 [00:12<00:18,  6.23it/s]"
     ]
    },
    {
     "name": "stdout",
     "output_type": "stream",
     "text": [
      "Epoch 083 train_loss 0.9886 val_loss 1.3430 test_acc 0.6620\n",
      "Epoch 084 train_loss 0.9891 val_loss 1.3431 test_acc 0.6600\n"
     ]
    },
    {
     "name": "stderr",
     "output_type": "stream",
     "text": [
      " 44%|████▎     | 87/200 [00:12<00:18,  6.24it/s]"
     ]
    },
    {
     "name": "stdout",
     "output_type": "stream",
     "text": [
      "Epoch 085 train_loss 0.9885 val_loss 1.3431 test_acc 0.6600\n",
      "Epoch 086 train_loss 0.9881 val_loss 1.3427 test_acc 0.6620\n"
     ]
    },
    {
     "name": "stderr",
     "output_type": "stream",
     "text": [
      " 44%|████▍     | 89/200 [00:13<00:17,  6.50it/s]"
     ]
    },
    {
     "name": "stdout",
     "output_type": "stream",
     "text": [
      "Epoch 087 train_loss 0.9881 val_loss 1.3430 test_acc 0.6640\n",
      "Epoch 088 train_loss 0.9900 val_loss 1.3426 test_acc 0.6660\n"
     ]
    },
    {
     "name": "stderr",
     "output_type": "stream",
     "text": [
      " 46%|████▌     | 91/200 [00:13<00:16,  6.55it/s]"
     ]
    },
    {
     "name": "stdout",
     "output_type": "stream",
     "text": [
      "Epoch 089 train_loss 0.9881 val_loss 1.3434 test_acc 0.6610\n",
      "Epoch 090 train_loss 0.9887 val_loss 1.3439 test_acc 0.6600\n"
     ]
    },
    {
     "name": "stderr",
     "output_type": "stream",
     "text": [
      " 46%|████▋     | 93/200 [00:13<00:15,  6.80it/s]"
     ]
    },
    {
     "name": "stdout",
     "output_type": "stream",
     "text": [
      "Epoch 091 train_loss 0.9880 val_loss 1.3440 test_acc 0.6560\n",
      "Epoch 092 train_loss 0.9885 val_loss 1.3429 test_acc 0.6550\n"
     ]
    },
    {
     "name": "stderr",
     "output_type": "stream",
     "text": [
      " 48%|████▊     | 95/200 [00:14<00:16,  6.51it/s]"
     ]
    },
    {
     "name": "stdout",
     "output_type": "stream",
     "text": [
      "Epoch 093 train_loss 0.9879 val_loss 1.3417 test_acc 0.6550\n",
      "Epoch 094 train_loss 0.9897 val_loss 1.3407 test_acc 0.6540\n"
     ]
    },
    {
     "name": "stderr",
     "output_type": "stream",
     "text": [
      " 48%|████▊     | 97/200 [00:14<00:15,  6.58it/s]"
     ]
    },
    {
     "name": "stdout",
     "output_type": "stream",
     "text": [
      "Epoch 095 train_loss 0.9875 val_loss 1.3399 test_acc 0.6550\n",
      "Epoch 096 train_loss 0.9880 val_loss 1.3395 test_acc 0.6550\n"
     ]
    },
    {
     "name": "stderr",
     "output_type": "stream",
     "text": [
      " 50%|████▉     | 99/200 [00:14<00:15,  6.73it/s]"
     ]
    },
    {
     "name": "stdout",
     "output_type": "stream",
     "text": [
      "Epoch 097 train_loss 0.9875 val_loss 1.3402 test_acc 0.6540\n",
      "Epoch 098 train_loss 0.9882 val_loss 1.3415 test_acc 0.6540\n"
     ]
    },
    {
     "name": "stderr",
     "output_type": "stream",
     "text": [
      " 50%|█████     | 101/200 [00:14<00:14,  6.91it/s]"
     ]
    },
    {
     "name": "stdout",
     "output_type": "stream",
     "text": [
      "Epoch 099 train_loss 0.9882 val_loss 1.3427 test_acc 0.6540\n",
      "Epoch 100 train_loss 0.9881 val_loss 1.3436 test_acc 0.6530\n"
     ]
    },
    {
     "name": "stderr",
     "output_type": "stream",
     "text": [
      " 52%|█████▏    | 103/200 [00:15<00:13,  6.97it/s]"
     ]
    },
    {
     "name": "stdout",
     "output_type": "stream",
     "text": [
      "Epoch 101 train_loss 0.9876 val_loss 1.3429 test_acc 0.6560\n",
      "Epoch 102 train_loss 0.9873 val_loss 1.3409 test_acc 0.6560\n"
     ]
    },
    {
     "name": "stderr",
     "output_type": "stream",
     "text": [
      " 52%|█████▎    | 105/200 [00:15<00:13,  6.80it/s]"
     ]
    },
    {
     "name": "stdout",
     "output_type": "stream",
     "text": [
      "Epoch 103 train_loss 0.9888 val_loss 1.3396 test_acc 0.6550\n",
      "Epoch 104 train_loss 0.9881 val_loss 1.3382 test_acc 0.6560\n"
     ]
    },
    {
     "name": "stderr",
     "output_type": "stream",
     "text": [
      " 54%|█████▎    | 107/200 [00:15<00:13,  6.75it/s]"
     ]
    },
    {
     "name": "stdout",
     "output_type": "stream",
     "text": [
      "Epoch 105 train_loss 0.9875 val_loss 1.3372 test_acc 0.6540\n",
      "Epoch 106 train_loss 0.9883 val_loss 1.3371 test_acc 0.6550\n"
     ]
    },
    {
     "name": "stderr",
     "output_type": "stream",
     "text": [
      " 55%|█████▍    | 109/200 [00:16<00:13,  6.52it/s]"
     ]
    },
    {
     "name": "stdout",
     "output_type": "stream",
     "text": [
      "Epoch 107 train_loss 0.9875 val_loss 1.3374 test_acc 0.6490\n",
      "Epoch 108 train_loss 0.9885 val_loss 1.3374 test_acc 0.6490\n"
     ]
    },
    {
     "name": "stderr",
     "output_type": "stream",
     "text": [
      " 56%|█████▌    | 111/200 [00:16<00:13,  6.79it/s]"
     ]
    },
    {
     "name": "stdout",
     "output_type": "stream",
     "text": [
      "Epoch 109 train_loss 0.9879 val_loss 1.3373 test_acc 0.6490\n",
      "Epoch 110 train_loss 0.9881 val_loss 1.3367 test_acc 0.6520\n"
     ]
    },
    {
     "name": "stderr",
     "output_type": "stream",
     "text": [
      " 56%|█████▋    | 113/200 [00:16<00:12,  6.86it/s]"
     ]
    },
    {
     "name": "stdout",
     "output_type": "stream",
     "text": [
      "Epoch 111 train_loss 0.9874 val_loss 1.3359 test_acc 0.6510\n",
      "Epoch 112 train_loss 0.9874 val_loss 1.3352 test_acc 0.6570\n"
     ]
    },
    {
     "name": "stderr",
     "output_type": "stream",
     "text": [
      " 57%|█████▊    | 115/200 [00:16<00:12,  6.86it/s]"
     ]
    },
    {
     "name": "stdout",
     "output_type": "stream",
     "text": [
      "Epoch 113 train_loss 0.9879 val_loss 1.3344 test_acc 0.6600\n",
      "Epoch 114 train_loss 0.9876 val_loss 1.3337 test_acc 0.6590\n"
     ]
    },
    {
     "name": "stderr",
     "output_type": "stream",
     "text": [
      " 58%|█████▊    | 117/200 [00:17<00:11,  7.05it/s]"
     ]
    },
    {
     "name": "stdout",
     "output_type": "stream",
     "text": [
      "Epoch 115 train_loss 0.9879 val_loss 1.3334 test_acc 0.6520\n",
      "Epoch 116 train_loss 0.9873 val_loss 1.3345 test_acc 0.6520\n"
     ]
    },
    {
     "name": "stderr",
     "output_type": "stream",
     "text": [
      " 60%|█████▉    | 119/200 [00:17<00:11,  7.11it/s]"
     ]
    },
    {
     "name": "stdout",
     "output_type": "stream",
     "text": [
      "Epoch 117 train_loss 0.9872 val_loss 1.3357 test_acc 0.6530\n",
      "Epoch 118 train_loss 0.9873 val_loss 1.3364 test_acc 0.6540\n"
     ]
    },
    {
     "name": "stderr",
     "output_type": "stream",
     "text": [
      " 60%|██████    | 121/200 [00:17<00:10,  7.19it/s]"
     ]
    },
    {
     "name": "stdout",
     "output_type": "stream",
     "text": [
      "Epoch 119 train_loss 0.9877 val_loss 1.3354 test_acc 0.6540\n",
      "Epoch 120 train_loss 0.9877 val_loss 1.3333 test_acc 0.6550\n"
     ]
    },
    {
     "name": "stderr",
     "output_type": "stream",
     "text": [
      " 62%|██████▏   | 123/200 [00:18<00:10,  7.27it/s]"
     ]
    },
    {
     "name": "stdout",
     "output_type": "stream",
     "text": [
      "Epoch 121 train_loss 0.9871 val_loss 1.3318 test_acc 0.6570\n",
      "Epoch 122 train_loss 0.9870 val_loss 1.3314 test_acc 0.6580\n"
     ]
    },
    {
     "name": "stderr",
     "output_type": "stream",
     "text": [
      " 62%|██████▎   | 125/200 [00:18<00:10,  6.94it/s]"
     ]
    },
    {
     "name": "stdout",
     "output_type": "stream",
     "text": [
      "Epoch 123 train_loss 0.9880 val_loss 1.3313 test_acc 0.6570\n",
      "Epoch 124 train_loss 0.9868 val_loss 1.3320 test_acc 0.6580\n"
     ]
    },
    {
     "name": "stderr",
     "output_type": "stream",
     "text": [
      " 64%|██████▎   | 127/200 [00:18<00:10,  6.91it/s]"
     ]
    },
    {
     "name": "stdout",
     "output_type": "stream",
     "text": [
      "Epoch 125 train_loss 0.9871 val_loss 1.3325 test_acc 0.6610\n",
      "Epoch 126 train_loss 0.9875 val_loss 1.3323 test_acc 0.6590\n"
     ]
    },
    {
     "name": "stderr",
     "output_type": "stream",
     "text": [
      " 64%|██████▍   | 129/200 [00:18<00:10,  6.85it/s]"
     ]
    },
    {
     "name": "stdout",
     "output_type": "stream",
     "text": [
      "Epoch 127 train_loss 0.9868 val_loss 1.3312 test_acc 0.6590\n",
      "Epoch 128 train_loss 0.9870 val_loss 1.3298 test_acc 0.6590\n"
     ]
    },
    {
     "name": "stderr",
     "output_type": "stream",
     "text": [
      " 66%|██████▌   | 131/200 [00:19<00:10,  6.83it/s]"
     ]
    },
    {
     "name": "stdout",
     "output_type": "stream",
     "text": [
      "Epoch 129 train_loss 0.9872 val_loss 1.3291 test_acc 0.6580\n",
      "Epoch 130 train_loss 0.9868 val_loss 1.3294 test_acc 0.6610\n"
     ]
    },
    {
     "name": "stderr",
     "output_type": "stream",
     "text": [
      " 66%|██████▋   | 133/200 [00:19<00:09,  7.03it/s]"
     ]
    },
    {
     "name": "stdout",
     "output_type": "stream",
     "text": [
      "Epoch 131 train_loss 0.9877 val_loss 1.3301 test_acc 0.6600\n",
      "Epoch 132 train_loss 0.9867 val_loss 1.3305 test_acc 0.6580\n"
     ]
    },
    {
     "name": "stderr",
     "output_type": "stream",
     "text": [
      " 68%|██████▊   | 135/200 [00:19<00:09,  7.02it/s]"
     ]
    },
    {
     "name": "stdout",
     "output_type": "stream",
     "text": [
      "Epoch 133 train_loss 0.9874 val_loss 1.3314 test_acc 0.6580\n",
      "Epoch 134 train_loss 0.9867 val_loss 1.3320 test_acc 0.6580\n"
     ]
    },
    {
     "name": "stderr",
     "output_type": "stream",
     "text": [
      " 68%|██████▊   | 137/200 [00:20<00:09,  6.99it/s]"
     ]
    },
    {
     "name": "stdout",
     "output_type": "stream",
     "text": [
      "Epoch 135 train_loss 0.9873 val_loss 1.3316 test_acc 0.6590\n",
      "Epoch 136 train_loss 0.9862 val_loss 1.3309 test_acc 0.6550\n"
     ]
    },
    {
     "name": "stderr",
     "output_type": "stream",
     "text": [
      " 70%|██████▉   | 139/200 [00:20<00:08,  6.99it/s]"
     ]
    },
    {
     "name": "stdout",
     "output_type": "stream",
     "text": [
      "Epoch 137 train_loss 0.9871 val_loss 1.3300 test_acc 0.6560\n",
      "Epoch 138 train_loss 0.9865 val_loss 1.3297 test_acc 0.6600\n"
     ]
    },
    {
     "name": "stderr",
     "output_type": "stream",
     "text": [
      " 70%|███████   | 141/200 [00:20<00:08,  6.95it/s]"
     ]
    },
    {
     "name": "stdout",
     "output_type": "stream",
     "text": [
      "Epoch 139 train_loss 0.9867 val_loss 1.3308 test_acc 0.6630\n",
      "Epoch 140 train_loss 0.9864 val_loss 1.3317 test_acc 0.6630\n"
     ]
    },
    {
     "name": "stderr",
     "output_type": "stream",
     "text": [
      " 72%|███████▏  | 143/200 [00:20<00:08,  6.87it/s]"
     ]
    },
    {
     "name": "stdout",
     "output_type": "stream",
     "text": [
      "Epoch 141 train_loss 0.9866 val_loss 1.3326 test_acc 0.6620\n",
      "Epoch 142 train_loss 0.9866 val_loss 1.3336 test_acc 0.6610\n"
     ]
    },
    {
     "name": "stderr",
     "output_type": "stream",
     "text": [
      " 72%|███████▎  | 145/200 [00:21<00:07,  6.96it/s]"
     ]
    },
    {
     "name": "stdout",
     "output_type": "stream",
     "text": [
      "Epoch 143 train_loss 0.9863 val_loss 1.3336 test_acc 0.6620\n",
      "Epoch 144 train_loss 0.9866 val_loss 1.3332 test_acc 0.6630\n"
     ]
    },
    {
     "name": "stderr",
     "output_type": "stream",
     "text": [
      " 74%|███████▎  | 147/200 [00:21<00:07,  7.03it/s]"
     ]
    },
    {
     "name": "stdout",
     "output_type": "stream",
     "text": [
      "Epoch 145 train_loss 0.9864 val_loss 1.3330 test_acc 0.6610\n",
      "Epoch 146 train_loss 0.9864 val_loss 1.3328 test_acc 0.6610\n"
     ]
    },
    {
     "name": "stderr",
     "output_type": "stream",
     "text": [
      " 74%|███████▍  | 149/200 [00:21<00:07,  7.02it/s]"
     ]
    },
    {
     "name": "stdout",
     "output_type": "stream",
     "text": [
      "Epoch 147 train_loss 0.9865 val_loss 1.3325 test_acc 0.6610\n",
      "Epoch 148 train_loss 0.9863 val_loss 1.3323 test_acc 0.6610\n"
     ]
    },
    {
     "name": "stderr",
     "output_type": "stream",
     "text": [
      " 76%|███████▌  | 151/200 [00:22<00:07,  6.56it/s]"
     ]
    },
    {
     "name": "stdout",
     "output_type": "stream",
     "text": [
      "Epoch 149 train_loss 0.9867 val_loss 1.3326 test_acc 0.6570\n",
      "Epoch 150 train_loss 0.9859 val_loss 1.3339 test_acc 0.6590\n"
     ]
    },
    {
     "name": "stderr",
     "output_type": "stream",
     "text": [
      " 76%|███████▋  | 153/200 [00:22<00:07,  6.36it/s]"
     ]
    },
    {
     "name": "stdout",
     "output_type": "stream",
     "text": [
      "Epoch 151 train_loss 0.9866 val_loss 1.3366 test_acc 0.6590\n",
      "Epoch 152 train_loss 0.9867 val_loss 1.3369 test_acc 0.6560\n"
     ]
    },
    {
     "name": "stderr",
     "output_type": "stream",
     "text": [
      " 78%|███████▊  | 155/200 [00:22<00:07,  6.30it/s]"
     ]
    },
    {
     "name": "stdout",
     "output_type": "stream",
     "text": [
      "Epoch 153 train_loss 0.9864 val_loss 1.3353 test_acc 0.6580\n",
      "Epoch 154 train_loss 0.9860 val_loss 1.3337 test_acc 0.6630\n"
     ]
    },
    {
     "name": "stderr",
     "output_type": "stream",
     "text": [
      " 78%|███████▊  | 157/200 [00:23<00:06,  6.23it/s]"
     ]
    },
    {
     "name": "stdout",
     "output_type": "stream",
     "text": [
      "Epoch 155 train_loss 0.9865 val_loss 1.3324 test_acc 0.6620\n",
      "Epoch 156 train_loss 0.9864 val_loss 1.3320 test_acc 0.6630\n"
     ]
    },
    {
     "name": "stderr",
     "output_type": "stream",
     "text": [
      " 80%|███████▉  | 159/200 [00:23<00:06,  6.51it/s]"
     ]
    },
    {
     "name": "stdout",
     "output_type": "stream",
     "text": [
      "Epoch 157 train_loss 0.9857 val_loss 1.3319 test_acc 0.6650\n",
      "Epoch 158 train_loss 0.9858 val_loss 1.3322 test_acc 0.6630\n"
     ]
    },
    {
     "name": "stderr",
     "output_type": "stream",
     "text": [
      " 80%|████████  | 160/200 [00:23<00:06,  6.60it/s]"
     ]
    },
    {
     "name": "stdout",
     "output_type": "stream",
     "text": [
      "Epoch 159 train_loss 0.9861 val_loss 1.3325 test_acc 0.6630\n"
     ]
    },
    {
     "name": "stderr",
     "output_type": "stream",
     "text": [
      " 81%|████████  | 162/200 [00:23<00:06,  6.28it/s]"
     ]
    },
    {
     "name": "stdout",
     "output_type": "stream",
     "text": [
      "Epoch 160 train_loss 0.9862 val_loss 1.3325 test_acc 0.6630\n",
      "Epoch 161 train_loss 0.9856 val_loss 1.3322 test_acc 0.6620\n"
     ]
    },
    {
     "name": "stderr",
     "output_type": "stream",
     "text": [
      " 82%|████████▏ | 163/200 [00:24<00:05,  6.22it/s]"
     ]
    },
    {
     "name": "stdout",
     "output_type": "stream",
     "text": [
      "Epoch 162 train_loss 0.9855 val_loss 1.3316 test_acc 0.6640\n"
     ]
    },
    {
     "name": "stderr",
     "output_type": "stream",
     "text": [
      " 82%|████████▎ | 165/200 [00:24<00:06,  5.74it/s]"
     ]
    },
    {
     "name": "stdout",
     "output_type": "stream",
     "text": [
      "Epoch 163 train_loss 0.9863 val_loss 1.3310 test_acc 0.6630\n",
      "Epoch 164 train_loss 0.9857 val_loss 1.3302 test_acc 0.6610\n"
     ]
    },
    {
     "name": "stderr",
     "output_type": "stream",
     "text": [
      " 84%|████████▎ | 167/200 [00:24<00:05,  5.79it/s]"
     ]
    },
    {
     "name": "stdout",
     "output_type": "stream",
     "text": [
      "Epoch 165 train_loss 0.9854 val_loss 1.3291 test_acc 0.6620\n",
      "Epoch 166 train_loss 0.9854 val_loss 1.3284 test_acc 0.6640\n"
     ]
    },
    {
     "name": "stderr",
     "output_type": "stream",
     "text": [
      " 84%|████████▍ | 169/200 [00:25<00:05,  6.06it/s]"
     ]
    },
    {
     "name": "stdout",
     "output_type": "stream",
     "text": [
      "Epoch 167 train_loss 0.9864 val_loss 1.3278 test_acc 0.6640\n",
      "Epoch 168 train_loss 0.9863 val_loss 1.3283 test_acc 0.6590\n"
     ]
    },
    {
     "name": "stderr",
     "output_type": "stream",
     "text": [
      " 86%|████████▌ | 171/200 [00:25<00:04,  6.14it/s]"
     ]
    },
    {
     "name": "stdout",
     "output_type": "stream",
     "text": [
      "Epoch 169 train_loss 0.9872 val_loss 1.3307 test_acc 0.6600\n",
      "Epoch 170 train_loss 0.9857 val_loss 1.3324 test_acc 0.6550\n"
     ]
    },
    {
     "name": "stderr",
     "output_type": "stream",
     "text": [
      " 86%|████████▋ | 173/200 [00:25<00:04,  6.35it/s]"
     ]
    },
    {
     "name": "stdout",
     "output_type": "stream",
     "text": [
      "Epoch 171 train_loss 0.9862 val_loss 1.3333 test_acc 0.6540\n",
      "Epoch 172 train_loss 0.9855 val_loss 1.3325 test_acc 0.6560\n"
     ]
    },
    {
     "name": "stderr",
     "output_type": "stream",
     "text": [
      " 88%|████████▊ | 175/200 [00:26<00:04,  6.22it/s]"
     ]
    },
    {
     "name": "stdout",
     "output_type": "stream",
     "text": [
      "Epoch 173 train_loss 0.9865 val_loss 1.3308 test_acc 0.6610\n",
      "Epoch 174 train_loss 0.9864 val_loss 1.3302 test_acc 0.6620\n"
     ]
    },
    {
     "name": "stderr",
     "output_type": "stream",
     "text": [
      " 88%|████████▊ | 177/200 [00:26<00:03,  6.46it/s]"
     ]
    },
    {
     "name": "stdout",
     "output_type": "stream",
     "text": [
      "Epoch 175 train_loss 0.9859 val_loss 1.3303 test_acc 0.6620\n",
      "Epoch 176 train_loss 0.9860 val_loss 1.3315 test_acc 0.6620\n"
     ]
    },
    {
     "name": "stderr",
     "output_type": "stream",
     "text": [
      " 90%|████████▉ | 179/200 [00:26<00:03,  6.43it/s]"
     ]
    },
    {
     "name": "stdout",
     "output_type": "stream",
     "text": [
      "Epoch 177 train_loss 0.9859 val_loss 1.3335 test_acc 0.6640\n",
      "Epoch 178 train_loss 0.9853 val_loss 1.3342 test_acc 0.6600\n"
     ]
    },
    {
     "name": "stderr",
     "output_type": "stream",
     "text": [
      " 90%|█████████ | 181/200 [00:26<00:02,  6.57it/s]"
     ]
    },
    {
     "name": "stdout",
     "output_type": "stream",
     "text": [
      "Epoch 179 train_loss 0.9858 val_loss 1.3338 test_acc 0.6590\n",
      "Epoch 180 train_loss 0.9854 val_loss 1.3320 test_acc 0.6600\n"
     ]
    },
    {
     "name": "stderr",
     "output_type": "stream",
     "text": [
      " 92%|█████████▏| 183/200 [00:27<00:02,  6.61it/s]"
     ]
    },
    {
     "name": "stdout",
     "output_type": "stream",
     "text": [
      "Epoch 181 train_loss 0.9861 val_loss 1.3300 test_acc 0.6660\n",
      "Epoch 182 train_loss 0.9862 val_loss 1.3296 test_acc 0.6670\n"
     ]
    },
    {
     "name": "stderr",
     "output_type": "stream",
     "text": [
      " 92%|█████████▎| 185/200 [00:27<00:02,  6.11it/s]"
     ]
    },
    {
     "name": "stdout",
     "output_type": "stream",
     "text": [
      "Epoch 183 train_loss 0.9861 val_loss 1.3300 test_acc 0.6640\n",
      "Epoch 184 train_loss 0.9863 val_loss 1.3317 test_acc 0.6620\n"
     ]
    },
    {
     "name": "stderr",
     "output_type": "stream",
     "text": [
      " 94%|█████████▎| 187/200 [00:27<00:02,  6.46it/s]"
     ]
    },
    {
     "name": "stdout",
     "output_type": "stream",
     "text": [
      "Epoch 185 train_loss 0.9859 val_loss 1.3327 test_acc 0.6620\n",
      "Epoch 186 train_loss 0.9870 val_loss 1.3319 test_acc 0.6640\n"
     ]
    },
    {
     "name": "stderr",
     "output_type": "stream",
     "text": [
      " 94%|█████████▍| 189/200 [00:28<00:01,  6.30it/s]"
     ]
    },
    {
     "name": "stdout",
     "output_type": "stream",
     "text": [
      "Epoch 187 train_loss 0.9859 val_loss 1.3301 test_acc 0.6650\n",
      "Epoch 188 train_loss 0.9862 val_loss 1.3285 test_acc 0.6640\n"
     ]
    },
    {
     "name": "stderr",
     "output_type": "stream",
     "text": [
      " 96%|█████████▌| 191/200 [00:28<00:01,  6.54it/s]"
     ]
    },
    {
     "name": "stdout",
     "output_type": "stream",
     "text": [
      "Epoch 189 train_loss 0.9862 val_loss 1.3279 test_acc 0.6690\n",
      "Epoch 190 train_loss 0.9855 val_loss 1.3292 test_acc 0.6640\n"
     ]
    },
    {
     "name": "stderr",
     "output_type": "stream",
     "text": [
      " 96%|█████████▋| 193/200 [00:28<00:01,  6.40it/s]"
     ]
    },
    {
     "name": "stdout",
     "output_type": "stream",
     "text": [
      "Epoch 191 train_loss 0.9856 val_loss 1.3302 test_acc 0.6620\n",
      "Epoch 192 train_loss 0.9851 val_loss 1.3308 test_acc 0.6630\n"
     ]
    },
    {
     "name": "stderr",
     "output_type": "stream",
     "text": [
      " 98%|█████████▊| 195/200 [00:29<00:00,  6.74it/s]"
     ]
    },
    {
     "name": "stdout",
     "output_type": "stream",
     "text": [
      "Epoch 193 train_loss 0.9857 val_loss 1.3300 test_acc 0.6650\n",
      "Epoch 194 train_loss 0.9853 val_loss 1.3293 test_acc 0.6700\n"
     ]
    },
    {
     "name": "stderr",
     "output_type": "stream",
     "text": [
      " 98%|█████████▊| 197/200 [00:29<00:00,  6.50it/s]"
     ]
    },
    {
     "name": "stdout",
     "output_type": "stream",
     "text": [
      "Epoch 195 train_loss 0.9853 val_loss 1.3289 test_acc 0.6700\n",
      "Epoch 196 train_loss 0.9853 val_loss 1.3290 test_acc 0.6690\n"
     ]
    },
    {
     "name": "stderr",
     "output_type": "stream",
     "text": [
      "100%|█████████▉| 199/200 [00:29<00:00,  6.55it/s]"
     ]
    },
    {
     "name": "stdout",
     "output_type": "stream",
     "text": [
      "Epoch 197 train_loss 0.9856 val_loss 1.3296 test_acc 0.6690\n",
      "Epoch 198 train_loss 0.9854 val_loss 1.3302 test_acc 0.6670\n"
     ]
    },
    {
     "name": "stderr",
     "output_type": "stream",
     "text": [
      "100%|██████████| 200/200 [00:29<00:00,  6.68it/s]"
     ]
    },
    {
     "name": "stdout",
     "output_type": "stream",
     "text": [
      "Epoch 199 train_loss 0.9853 val_loss 1.3302 test_acc 0.6670\n",
      "test acc: 0.664\n"
     ]
    },
    {
     "name": "stderr",
     "output_type": "stream",
     "text": [
      "\n"
     ]
    }
   ],
   "source": [
    "import os\n",
    "\n",
    "from get_data import load_data\n",
    "from models import GraphSAGE\n",
    "from util import train, device\n",
    "\n",
    "path = os.path.abspath(os.path.dirname(os.getcwd())) + \"/data\"\n",
    "\n",
    "\n",
    "def main():\n",
    "    # name: CiteSeer Cora NELL PubMed\n",
    "    dataset, num_in_feats, num_out_feats = load_data(path, name='CiteSeer')\n",
    "    model = GraphSAGE(num_in_feats, 64, num_out_feats).to(device)\n",
    "    model, test_acc = train(model, dataset)\n",
    "    print('test acc:', test_acc)\n",
    "\n",
    "\n",
    "if __name__ == '__main__':\n",
    "    main()"
   ]
  }
 ],
 "metadata": {
  "kernelspec": {
   "display_name": "Python 3",
   "language": "python",
   "name": "python3"
  },
  "language_info": {
   "codemirror_mode": {
    "name": "ipython",
    "version": 3
   },
   "file_extension": ".py",
   "mimetype": "text/x-python",
   "name": "python",
   "nbconvert_exporter": "python",
   "pygments_lexer": "ipython3",
   "version": "3.9.9"
  }
 },
 "nbformat": 4,
 "nbformat_minor": 2
}
